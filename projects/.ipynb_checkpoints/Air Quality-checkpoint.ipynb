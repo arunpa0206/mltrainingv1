{
 "cells": [
  {
   "cell_type": "code",
   "execution_count": 1,
   "metadata": {},
   "outputs": [],
   "source": [
    "import pandas as pd"
   ]
  },
  {
   "cell_type": "markdown",
   "metadata": {},
   "source": [
    "## Read the excel file"
   ]
  },
  {
   "cell_type": "code",
   "execution_count": 114,
   "metadata": {},
   "outputs": [],
   "source": [
    "df = pd.read_excel('AirQualityUCI.xlsx')"
   ]
  },
  {
   "cell_type": "code",
   "execution_count": 115,
   "metadata": {},
   "outputs": [
    {
     "data": {
      "text/html": [
       "<div>\n",
       "<style scoped>\n",
       "    .dataframe tbody tr th:only-of-type {\n",
       "        vertical-align: middle;\n",
       "    }\n",
       "\n",
       "    .dataframe tbody tr th {\n",
       "        vertical-align: top;\n",
       "    }\n",
       "\n",
       "    .dataframe thead th {\n",
       "        text-align: right;\n",
       "    }\n",
       "</style>\n",
       "<table border=\"1\" class=\"dataframe\">\n",
       "  <thead>\n",
       "    <tr style=\"text-align: right;\">\n",
       "      <th></th>\n",
       "      <th>Date</th>\n",
       "      <th>Time</th>\n",
       "      <th>CO(GT)</th>\n",
       "      <th>PT08.S1(CO)</th>\n",
       "      <th>NMHC(GT)</th>\n",
       "      <th>C6H6(GT)</th>\n",
       "      <th>PT08.S2(NMHC)</th>\n",
       "      <th>NOx(GT)</th>\n",
       "      <th>PT08.S3(NOx)</th>\n",
       "      <th>NO2(GT)</th>\n",
       "      <th>PT08.S4(NO2)</th>\n",
       "      <th>PT08.S5(O3)</th>\n",
       "      <th>T</th>\n",
       "      <th>RH</th>\n",
       "      <th>AH</th>\n",
       "    </tr>\n",
       "  </thead>\n",
       "  <tbody>\n",
       "    <tr>\n",
       "      <th>0</th>\n",
       "      <td>2004-03-10</td>\n",
       "      <td>18:00:00</td>\n",
       "      <td>2.6</td>\n",
       "      <td>1360.00</td>\n",
       "      <td>150</td>\n",
       "      <td>11.881723</td>\n",
       "      <td>1045.50</td>\n",
       "      <td>166.0</td>\n",
       "      <td>1056.25</td>\n",
       "      <td>113.0</td>\n",
       "      <td>1692.00</td>\n",
       "      <td>1267.50</td>\n",
       "      <td>13.60</td>\n",
       "      <td>48.875001</td>\n",
       "      <td>0.757754</td>\n",
       "    </tr>\n",
       "    <tr>\n",
       "      <th>1</th>\n",
       "      <td>2004-03-10</td>\n",
       "      <td>19:00:00</td>\n",
       "      <td>2.0</td>\n",
       "      <td>1292.25</td>\n",
       "      <td>112</td>\n",
       "      <td>9.397165</td>\n",
       "      <td>954.75</td>\n",
       "      <td>103.0</td>\n",
       "      <td>1173.75</td>\n",
       "      <td>92.0</td>\n",
       "      <td>1558.75</td>\n",
       "      <td>972.25</td>\n",
       "      <td>13.30</td>\n",
       "      <td>47.700000</td>\n",
       "      <td>0.725487</td>\n",
       "    </tr>\n",
       "    <tr>\n",
       "      <th>2</th>\n",
       "      <td>2004-03-10</td>\n",
       "      <td>20:00:00</td>\n",
       "      <td>2.2</td>\n",
       "      <td>1402.00</td>\n",
       "      <td>88</td>\n",
       "      <td>8.997817</td>\n",
       "      <td>939.25</td>\n",
       "      <td>131.0</td>\n",
       "      <td>1140.00</td>\n",
       "      <td>114.0</td>\n",
       "      <td>1554.50</td>\n",
       "      <td>1074.00</td>\n",
       "      <td>11.90</td>\n",
       "      <td>53.975000</td>\n",
       "      <td>0.750239</td>\n",
       "    </tr>\n",
       "    <tr>\n",
       "      <th>3</th>\n",
       "      <td>2004-03-10</td>\n",
       "      <td>21:00:00</td>\n",
       "      <td>2.2</td>\n",
       "      <td>1375.50</td>\n",
       "      <td>80</td>\n",
       "      <td>9.228796</td>\n",
       "      <td>948.25</td>\n",
       "      <td>172.0</td>\n",
       "      <td>1092.00</td>\n",
       "      <td>122.0</td>\n",
       "      <td>1583.75</td>\n",
       "      <td>1203.25</td>\n",
       "      <td>11.00</td>\n",
       "      <td>60.000000</td>\n",
       "      <td>0.786713</td>\n",
       "    </tr>\n",
       "    <tr>\n",
       "      <th>4</th>\n",
       "      <td>2004-03-10</td>\n",
       "      <td>22:00:00</td>\n",
       "      <td>1.6</td>\n",
       "      <td>1272.25</td>\n",
       "      <td>51</td>\n",
       "      <td>6.518224</td>\n",
       "      <td>835.50</td>\n",
       "      <td>131.0</td>\n",
       "      <td>1205.00</td>\n",
       "      <td>116.0</td>\n",
       "      <td>1490.00</td>\n",
       "      <td>1110.00</td>\n",
       "      <td>11.15</td>\n",
       "      <td>59.575001</td>\n",
       "      <td>0.788794</td>\n",
       "    </tr>\n",
       "  </tbody>\n",
       "</table>\n",
       "</div>"
      ],
      "text/plain": [
       "        Date      Time  CO(GT)  PT08.S1(CO)  NMHC(GT)   C6H6(GT)  \\\n",
       "0 2004-03-10  18:00:00     2.6      1360.00       150  11.881723   \n",
       "1 2004-03-10  19:00:00     2.0      1292.25       112   9.397165   \n",
       "2 2004-03-10  20:00:00     2.2      1402.00        88   8.997817   \n",
       "3 2004-03-10  21:00:00     2.2      1375.50        80   9.228796   \n",
       "4 2004-03-10  22:00:00     1.6      1272.25        51   6.518224   \n",
       "\n",
       "   PT08.S2(NMHC)  NOx(GT)  PT08.S3(NOx)  NO2(GT)  PT08.S4(NO2)  PT08.S5(O3)  \\\n",
       "0        1045.50    166.0       1056.25    113.0       1692.00      1267.50   \n",
       "1         954.75    103.0       1173.75     92.0       1558.75       972.25   \n",
       "2         939.25    131.0       1140.00    114.0       1554.50      1074.00   \n",
       "3         948.25    172.0       1092.00    122.0       1583.75      1203.25   \n",
       "4         835.50    131.0       1205.00    116.0       1490.00      1110.00   \n",
       "\n",
       "       T         RH        AH  \n",
       "0  13.60  48.875001  0.757754  \n",
       "1  13.30  47.700000  0.725487  \n",
       "2  11.90  53.975000  0.750239  \n",
       "3  11.00  60.000000  0.786713  \n",
       "4  11.15  59.575001  0.788794  "
      ]
     },
     "execution_count": 115,
     "metadata": {},
     "output_type": "execute_result"
    }
   ],
   "source": [
    "df.head()"
   ]
  },
  {
   "cell_type": "code",
   "execution_count": 116,
   "metadata": {},
   "outputs": [
    {
     "data": {
      "text/plain": [
       "datetime.time"
      ]
     },
     "execution_count": 116,
     "metadata": {},
     "output_type": "execute_result"
    }
   ],
   "source": [
    "type(df['Time'][0])"
   ]
  },
  {
   "cell_type": "markdown",
   "metadata": {},
   "source": [
    " - Check for null values"
   ]
  },
  {
   "cell_type": "code",
   "execution_count": 117,
   "metadata": {},
   "outputs": [
    {
     "data": {
      "text/plain": [
       "Date             False\n",
       "Time             False\n",
       "CO(GT)           False\n",
       "PT08.S1(CO)      False\n",
       "NMHC(GT)         False\n",
       "C6H6(GT)         False\n",
       "PT08.S2(NMHC)    False\n",
       "NOx(GT)          False\n",
       "PT08.S3(NOx)     False\n",
       "NO2(GT)          False\n",
       "PT08.S4(NO2)     False\n",
       "PT08.S5(O3)      False\n",
       "T                False\n",
       "RH               False\n",
       "AH               False\n",
       "dtype: bool"
      ]
     },
     "execution_count": 117,
     "metadata": {},
     "output_type": "execute_result"
    }
   ],
   "source": [
    "df.isnull().any()"
   ]
  },
  {
   "cell_type": "code",
   "execution_count": 118,
   "metadata": {},
   "outputs": [],
   "source": [
    "array = df.values"
   ]
  },
  {
   "cell_type": "code",
   "execution_count": 119,
   "metadata": {},
   "outputs": [
    {
     "data": {
      "text/plain": [
       "15"
      ]
     },
     "execution_count": 119,
     "metadata": {},
     "output_type": "execute_result"
    }
   ],
   "source": [
    "len(array[0])"
   ]
  },
  {
   "cell_type": "code",
   "execution_count": 120,
   "metadata": {},
   "outputs": [],
   "source": [
    "X = array[:,2:14]\n",
    "Y = array[:,14]"
   ]
  },
  {
   "cell_type": "code",
   "execution_count": 121,
   "metadata": {},
   "outputs": [],
   "source": [
    "df1=df.drop(['Date', 'Time'], axis=1)"
   ]
  },
  {
   "cell_type": "code",
   "execution_count": 122,
   "metadata": {},
   "outputs": [],
   "source": [
    "columns2 = df1.columns.tolist()"
   ]
  },
  {
   "cell_type": "code",
   "execution_count": 123,
   "metadata": {},
   "outputs": [
    {
     "data": {
      "text/plain": [
       "['CO(GT)',\n",
       " 'PT08.S1(CO)',\n",
       " 'NMHC(GT)',\n",
       " 'C6H6(GT)',\n",
       " 'PT08.S2(NMHC)',\n",
       " 'NOx(GT)',\n",
       " 'PT08.S3(NOx)',\n",
       " 'NO2(GT)',\n",
       " 'PT08.S4(NO2)',\n",
       " 'PT08.S5(O3)',\n",
       " 'T',\n",
       " 'RH',\n",
       " 'AH']"
      ]
     },
     "execution_count": 123,
     "metadata": {},
     "output_type": "execute_result"
    }
   ],
   "source": [
    "columns2"
   ]
  },
  {
   "cell_type": "code",
   "execution_count": 124,
   "metadata": {},
   "outputs": [],
   "source": [
    "target = \"AH\""
   ]
  },
  {
   "cell_type": "markdown",
   "metadata": {},
   "source": [
    " - Train Test data (80:20)"
   ]
  },
  {
   "cell_type": "code",
   "execution_count": 125,
   "metadata": {},
   "outputs": [],
   "source": [
    "train2 = df.sample(frac=0.8, random_state=1)"
   ]
  },
  {
   "cell_type": "code",
   "execution_count": 126,
   "metadata": {},
   "outputs": [],
   "source": [
    "test2 = df.loc[~df.index.isin(train2.index)]"
   ]
  },
  {
   "cell_type": "code",
   "execution_count": 127,
   "metadata": {},
   "outputs": [
    {
     "name": "stdout",
     "output_type": "stream",
     "text": [
      "(7486, 15)\n",
      "(1871, 15)\n"
     ]
    }
   ],
   "source": [
    "print(train2.shape) #need to have same number of features only difference should be obs\n",
    "print(test2.shape)"
   ]
  },
  {
   "cell_type": "markdown",
   "metadata": {},
   "source": [
    " - Random Forest Regressor"
   ]
  },
  {
   "cell_type": "code",
   "execution_count": 128,
   "metadata": {},
   "outputs": [],
   "source": [
    "from sklearn.ensemble import RandomForestRegressor\n",
    "model = RandomForestRegressor(n_estimators=100, min_samples_leaf=8, random_state=1)"
   ]
  },
  {
   "cell_type": "code",
   "execution_count": 129,
   "metadata": {},
   "outputs": [
    {
     "data": {
      "text/plain": [
       "RandomForestRegressor(bootstrap=True, criterion='mse', max_depth=None,\n",
       "           max_features='auto', max_leaf_nodes=None,\n",
       "           min_impurity_decrease=0.0, min_impurity_split=None,\n",
       "           min_samples_leaf=8, min_samples_split=2,\n",
       "           min_weight_fraction_leaf=0.0, n_estimators=100, n_jobs=1,\n",
       "           oob_score=False, random_state=1, verbose=0, warm_start=False)"
      ]
     },
     "execution_count": 129,
     "metadata": {},
     "output_type": "execute_result"
    }
   ],
   "source": [
    "# Fit the model to the data.\n",
    "model.fit(train2[columns2], train2[target])"
   ]
  },
  {
   "cell_type": "code",
   "execution_count": 130,
   "metadata": {},
   "outputs": [],
   "source": [
    "X=train2[columns2]\n",
    "Y=train2[target]"
   ]
  },
  {
   "cell_type": "code",
   "execution_count": 131,
   "metadata": {},
   "outputs": [],
   "source": [
    "# Make predictions.\n",
    "predictions_rf = model.predict(test2[columns2])"
   ]
  },
  {
   "cell_type": "code",
   "execution_count": 132,
   "metadata": {},
   "outputs": [
    {
     "data": {
      "text/plain": [
       "8.323555775669841e-07"
      ]
     },
     "execution_count": 132,
     "metadata": {},
     "output_type": "execute_result"
    }
   ],
   "source": [
    "from sklearn.metrics import mean_squared_error\n",
    "# Compute the error.\n",
    "mean_squared_error(predictions_rf, test2[target])#650.4928"
   ]
  },
  {
   "cell_type": "code",
   "execution_count": 133,
   "metadata": {},
   "outputs": [],
   "source": [
    "import numpy as np\n",
    "#features=df.columns[[3,4,6,8,9,10]]\n",
    "importances = model.feature_importances_\n",
    "indices = np.argsort(importances)"
   ]
  },
  {
   "cell_type": "code",
   "execution_count": 134,
   "metadata": {},
   "outputs": [],
   "source": [
    "features=df1.columns#[[3,4,6,8,9,10]]"
   ]
  },
  {
   "cell_type": "code",
   "execution_count": 135,
   "metadata": {},
   "outputs": [
    {
     "data": {
      "text/plain": [
       "Index(['CO(GT)', 'PT08.S1(CO)', 'NMHC(GT)', 'C6H6(GT)', 'PT08.S2(NMHC)',\n",
       "       'NOx(GT)', 'PT08.S3(NOx)', 'NO2(GT)', 'PT08.S4(NO2)', 'PT08.S5(O3)',\n",
       "       'T', 'RH', 'AH'],\n",
       "      dtype='object')"
      ]
     },
     "execution_count": 135,
     "metadata": {},
     "output_type": "execute_result"
    }
   ],
   "source": [
    "features"
   ]
  },
  {
   "cell_type": "markdown",
   "metadata": {},
   "source": [
    " - Feature Importance"
   ]
  },
  {
   "cell_type": "code",
   "execution_count": 136,
   "metadata": {},
   "outputs": [
    {
     "data": {
      "text/plain": [
       "Text(0.5,0,'Relative Importance')"
      ]
     },
     "execution_count": 136,
     "metadata": {},
     "output_type": "execute_result"
    },
    {
     "data": {
      "image/png": "[encoded data removed]",
      "text/plain": [
       "<Figure size 432x288 with 1 Axes>"
      ]
     },
     "metadata": {},
     "output_type": "display_data"
    }
   ],
   "source": [
    "import matplotlib.pyplot as plt\n",
    "plt.figure(1)\n",
    "plt.title('Feature Importances')\n",
    "plt.barh(range(len(indices)), importances[indices], color='b', align='center')\n",
    "plt.yticks(range(len(indices)), features[indices])\n",
    "plt.xlabel('Relative Importance')"
   ]
  },
  {
   "cell_type": "code",
   "execution_count": 137,
   "metadata": {},
   "outputs": [],
   "source": [
    "# Dropping columns based on relative importance\n",
    "df2 = df.drop(['NOx(GT)', 'NO2(GT)','NMHC(GT)','CO(GT)'], axis=1)"
   ]
  },
  {
   "cell_type": "code",
   "execution_count": 138,
   "metadata": {},
   "outputs": [
    {
     "data": {
      "text/plain": [
       "9357"
      ]
     },
     "execution_count": 138,
     "metadata": {},
     "output_type": "execute_result"
    }
   ],
   "source": [
    "len(df2)"
   ]
  },
  {
   "cell_type": "code",
   "execution_count": 139,
   "metadata": {},
   "outputs": [],
   "source": [
    "columns3 = df2.columns.tolist()"
   ]
  },
  {
   "cell_type": "code",
   "execution_count": 140,
   "metadata": {},
   "outputs": [
    {
     "data": {
      "text/plain": [
       "['Date',\n",
       " 'Time',\n",
       " 'PT08.S1(CO)',\n",
       " 'C6H6(GT)',\n",
       " 'PT08.S2(NMHC)',\n",
       " 'PT08.S3(NOx)',\n",
       " 'PT08.S4(NO2)',\n",
       " 'PT08.S5(O3)',\n",
       " 'T',\n",
       " 'RH',\n",
       " 'AH']"
      ]
     },
     "execution_count": 140,
     "metadata": {},
     "output_type": "execute_result"
    }
   ],
   "source": [
    "columns3"
   ]
  },
  {
   "cell_type": "code",
   "execution_count": 141,
   "metadata": {},
   "outputs": [],
   "source": [
    "x=df2.values[:,2:11]"
   ]
  },
  {
   "cell_type": "markdown",
   "metadata": {},
   "source": [
    " - Dimensionality Reduction using PCA (Principal Component Analysis)"
   ]
  },
  {
   "cell_type": "code",
   "execution_count": 144,
   "metadata": {
    "scrolled": true
   },
   "outputs": [
    {
     "data": {
      "text/plain": [
       "PCA(copy=True, iterated_power='auto', n_components=9, random_state=None,\n",
       "  svd_solver='auto', tol=0.0, whiten=False)"
      ]
     },
     "execution_count": 144,
     "metadata": {},
     "output_type": "execute_result"
    }
   ],
   "source": [
    "from sklearn.decomposition import PCA\n",
    "# feature extraction\n",
    "pca = PCA(n_components=9)\n",
    "pca.fit(x)\n",
    "#pca.fit_transform(x)"
   ]
  },
  {
   "cell_type": "markdown",
   "metadata": {},
   "source": [
    "## Initial Model Summary for all components (except the ones where relative importance is 0 as shown in the above plot)"
   ]
  },
  {
   "cell_type": "code",
   "execution_count": 145,
   "metadata": {},
   "outputs": [
    {
     "name": "stdout",
     "output_type": "stream",
     "text": [
      "\n",
      "\u001b[4mMean\u001b[0m:\n",
      "\n",
      "[1048.86965195    1.86557595  894.47596274  794.87233266 1391.36326636\n",
      "  974.95153361    9.77659951   39.48361121   -6.8376037 ]\n",
      "\n",
      "\u001b[4mComponents\u001b[0m:\n",
      "\n",
      "[[-4.15830409e-01 -4.30663277e-02 -4.39172033e-01  1.08702860e-02\n",
      "  -5.62554614e-01 -5.57709300e-01 -3.98454330e-02 -4.38423021e-02\n",
      "  -3.49708675e-02]\n",
      " [ 7.71711221e-02  5.86504922e-02 -4.95359776e-02  8.71889430e-01\n",
      "   3.12876182e-01 -3.37378166e-01  7.44953345e-02  7.89578890e-02\n",
      "   6.67855693e-02]\n",
      " [ 2.57014680e-01  4.16948978e-02  1.96002947e-03  4.12863729e-01\n",
      "  -7.02618608e-01  5.10672717e-01  1.95565109e-02  7.01617399e-02\n",
      "   4.44975294e-02]\n",
      " [-5.81985011e-01 -5.85644092e-02 -4.89370417e-01  1.56395546e-01\n",
      "   2.73806428e-01  5.59465580e-01 -5.31274469e-02 -2.28428718e-02\n",
      "  -5.10359392e-02]\n",
      " [-6.19212250e-01  6.70109455e-03  7.45247507e-01  1.63379863e-01\n",
      "  -1.28659012e-01  1.87288007e-02 -1.85619912e-05 -1.31203081e-01\n",
      "  -1.80637826e-02]\n",
      " [ 1.79876147e-01 -3.53551590e-01 -4.10710906e-03  1.32031375e-01\n",
      "   1.31584321e-02 -3.70430789e-03 -4.30716712e-01 -6.81715778e-01\n",
      "  -4.18038920e-01]\n",
      " [-2.32435007e-02 -2.05840520e-01  9.15247754e-02  2.24315250e-02\n",
      "   2.62536090e-03 -3.13339671e-02 -6.46438685e-01  6.76792168e-01\n",
      "  -2.67002135e-01]\n",
      " [ 6.86130276e-03 -6.11663122e-01  3.23569075e-02  1.19556119e-02\n",
      "  -1.61889940e-02  1.26695466e-03  6.10461342e-01  2.13530615e-01\n",
      "  -4.53992489e-01]\n",
      " [-1.15001406e-04  6.69321620e-01 -1.87722075e-02 -1.80555504e-03\n",
      "  -1.63455780e-03  1.96034758e-04  1.16597148e-01  2.83800033e-02\n",
      "  -7.32973308e-01]]\n",
      "\n",
      "\u001b[4mExplained Variance\u001b[0m:\n",
      "\n",
      "[5.80742761e+05 1.26075991e+05 4.34781549e+04 7.83793071e+03\n",
      " 5.37109155e+03 7.12906149e+02 1.71636347e+02 5.66041731e+00\n",
      " 6.94175715e-01]\n",
      "\n",
      "\u001b[4mExplained Variance Ratio\u001b[0m:\n",
      "\n",
      "[7.59739890e-01 1.64935263e-01 5.68790364e-02 1.02537457e-02\n",
      " 7.02657489e-03 9.32638813e-04 2.24538278e-04 7.40507693e-06\n",
      " 9.08135266e-07]\n",
      "\n",
      "\u001b[4mSingular Values\u001b[0m:\n",
      "\n",
      "[73711.79872213 34344.82459112 20168.82786364  8563.3918354\n",
      "  7088.85974584  2582.62462112  1267.21334659   230.12793031\n",
      "    80.58975116]\n",
      "\n",
      "\u001b[4mNumber of Components\u001b[0m:\n",
      "\n",
      "9\n",
      "\n",
      "\u001b[4mNoise Variance\u001b[0m:\n",
      "\n",
      "0.0\n"
     ]
    }
   ],
   "source": [
    "print(\"\\n\"+'\\033[4m'+\"Mean\"+'\\033[0m'+\":\\n\")\n",
    "print(pca.mean_)\n",
    "print(\"\\n\"+'\\033[4m'+\"Components\"+'\\033[0m'+\":\\n\")\n",
    "print(pca.components_)\n",
    "print(\"\\n\"+'\\033[4m'+\"Explained Variance\"+'\\033[0m'+\":\\n\")\n",
    "print(pca.explained_variance_)\n",
    "print(\"\\n\"+'\\033[4m'+\"Explained Variance Ratio\"+'\\033[0m'+\":\\n\")\n",
    "print(pca.explained_variance_ratio_)\n",
    "print(\"\\n\"+'\\033[4m'+\"Singular Values\"+'\\033[0m'+\":\\n\")\n",
    "print(pca.singular_values_)\n",
    "print(\"\\n\"+'\\033[4m'+\"Number of Components\"+'\\033[0m'+\":\\n\")\n",
    "print(pca.n_components_)\n",
    "print(\"\\n\"+'\\033[4m'+\"Noise Variance\"+'\\033[0m'+\":\\n\")\n",
    "print(pca.noise_variance_)"
   ]
  },
  {
   "cell_type": "markdown",
   "metadata": {},
   "source": [
    " - Identify number of principal components based on variance ratio"
   ]
  },
  {
   "cell_type": "code",
   "execution_count": 147,
   "metadata": {},
   "outputs": [],
   "source": [
    "var1=np.cumsum(np.round(pca.explained_variance_ratio_, decimals=4)*100)"
   ]
  },
  {
   "cell_type": "code",
   "execution_count": 148,
   "metadata": {},
   "outputs": [
    {
     "data": {
      "text/plain": [
       "[<matplotlib.lines.Line2D at 0x1156fda90>]"
      ]
     },
     "execution_count": 148,
     "metadata": {},
     "output_type": "execute_result"
    },
    {
     "data": {
      "image/png": "[encoded data removed]",
      "text/plain": [
       "<Figure size 432x288 with 1 Axes>"
      ]
     },
     "metadata": {},
     "output_type": "display_data"
    }
   ],
   "source": [
    "plt.plot(var1)"
   ]
  },
  {
   "cell_type": "code",
   "execution_count": 149,
   "metadata": {
    "scrolled": true
   },
   "outputs": [
    {
     "data": {
      "text/plain": [
       "array([[-526.40438556,  241.90525048,  127.82727945,   30.4935955 ],\n",
       "       [-217.30408406,  401.27645737,  101.40262386,  -68.76706491],\n",
       "       [-311.06023526,  345.79897373,  170.98986816,  -74.61791889],\n",
       "       ...,\n",
       "       [ -95.62155522, -254.09990515,  110.37146651, -143.57371249],\n",
       "       [ 300.6223065 , -128.37350875,   90.23320487, -231.87978379],\n",
       "       [ 158.51912389, -156.92703307,   50.54549564, -271.78728066]])"
      ]
     },
     "execution_count": 149,
     "metadata": {},
     "output_type": "execute_result"
    }
   ],
   "source": [
    "#From the above plot we can infer that only 4 Principal Components are required\n",
    "pca = PCA(n_components=4)\n",
    "#fit1=pca.fit(x)\n",
    "#X1=pca.fit_transform(x)\n",
    "pca.fit(x)\n",
    "pca.fit_transform(x)"
   ]
  },
  {
   "cell_type": "markdown",
   "metadata": {},
   "source": [
    "## PCA Model Summary"
   ]
  },
  {
   "cell_type": "code",
   "execution_count": 150,
   "metadata": {},
   "outputs": [
    {
     "name": "stdout",
     "output_type": "stream",
     "text": [
      "\n",
      "\u001b[4mMean\u001b[0m:\n",
      "\n",
      "[1048.86965195    1.86557595  894.47596274  794.87233266 1391.36326636\n",
      "  974.95153361    9.77659951   39.48361121   -6.8376037 ]\n",
      "\n",
      "\u001b[4mComponents\u001b[0m:\n",
      "\n",
      "[[-0.41583041 -0.04306633 -0.43917203  0.01087029 -0.56255461 -0.5577093\n",
      "  -0.03984543 -0.0438423  -0.03497087]\n",
      " [ 0.07717112  0.05865049 -0.04953598  0.87188943  0.31287618 -0.33737817\n",
      "   0.07449533  0.07895789  0.06678557]\n",
      " [ 0.25701468  0.0416949   0.00196003  0.41286373 -0.70261861  0.51067272\n",
      "   0.01955651  0.07016174  0.04449753]\n",
      " [-0.58198501 -0.05856441 -0.48937042  0.15639555  0.27380643  0.55946558\n",
      "  -0.05312745 -0.02284287 -0.05103594]]\n",
      "\n",
      "\u001b[4mExplained Variance\u001b[0m:\n",
      "\n",
      "[580742.76088623 126075.99147018  43478.15491588   7837.93071041]\n",
      "\n",
      "\u001b[4mExplained Variance Ratio\u001b[0m:\n",
      "\n",
      "[0.75973989 0.16493526 0.05687904 0.01025375]\n",
      "\n",
      "\u001b[4mSingular Values\u001b[0m:\n",
      "\n",
      "[73711.79872213 34344.82459112 20168.82786364  8563.3918354 ]\n",
      "\n",
      "\u001b[4mNumber of Components\u001b[0m:\n",
      "\n",
      "4\n",
      "\n",
      "\u001b[4mNoise Variance\u001b[0m:\n",
      "\n",
      "1252.3977269749157\n"
     ]
    }
   ],
   "source": [
    "print(\"\\n\"+'\\033[4m'+\"Mean\"+'\\033[0m'+\":\\n\")\n",
    "print(pca.mean_)\n",
    "print(\"\\n\"+'\\033[4m'+\"Components\"+'\\033[0m'+\":\\n\")\n",
    "print(pca.components_)\n",
    "print(\"\\n\"+'\\033[4m'+\"Explained Variance\"+'\\033[0m'+\":\\n\")\n",
    "print(pca.explained_variance_)\n",
    "print(\"\\n\"+'\\033[4m'+\"Explained Variance Ratio\"+'\\033[0m'+\":\\n\")\n",
    "print(pca.explained_variance_ratio_)\n",
    "print(\"\\n\"+'\\033[4m'+\"Singular Values\"+'\\033[0m'+\":\\n\")\n",
    "print(pca.singular_values_)\n",
    "print(\"\\n\"+'\\033[4m'+\"Number of Components\"+'\\033[0m'+\":\\n\")\n",
    "print(pca.n_components_)\n",
    "print(\"\\n\"+'\\033[4m'+\"Noise Variance\"+'\\033[0m'+\":\\n\")\n",
    "print(pca.noise_variance_)"
   ]
  },
  {
   "cell_type": "code",
   "execution_count": 151,
   "metadata": {},
   "outputs": [],
   "source": [
    "principalDf = pd.DataFrame(data = X1\n",
    "             , columns = ['PC1', 'PC2', 'PC3', 'PC4'])"
   ]
  },
  {
   "cell_type": "code",
   "execution_count": 152,
   "metadata": {},
   "outputs": [
    {
     "data": {
      "text/plain": [
       "9357"
      ]
     },
     "execution_count": 152,
     "metadata": {},
     "output_type": "execute_result"
    }
   ],
   "source": [
    "len(principalDf)"
   ]
  },
  {
   "cell_type": "markdown",
   "metadata": {},
   "source": [
    "## Time Series"
   ]
  },
  {
   "cell_type": "code",
   "execution_count": 153,
   "metadata": {},
   "outputs": [],
   "source": [
    "data = pd.read_excel('AirQualityUCI.xlsx')"
   ]
  },
  {
   "cell_type": "code",
   "execution_count": 154,
   "metadata": {},
   "outputs": [],
   "source": [
    "data = data.set_index(pd.DatetimeIndex(data['Date']))"
   ]
  },
  {
   "cell_type": "code",
   "execution_count": 155,
   "metadata": {},
   "outputs": [],
   "source": [
    "data.drop(['NOx(GT)', 'NO2(GT)','NMHC(GT)','CO(GT)'], axis=1, inplace=True)"
   ]
  },
  {
   "cell_type": "code",
   "execution_count": 156,
   "metadata": {},
   "outputs": [
    {
     "data": {
      "text/html": [
       "<div>\n",
       "<style scoped>\n",
       "    .dataframe tbody tr th:only-of-type {\n",
       "        vertical-align: middle;\n",
       "    }\n",
       "\n",
       "    .dataframe tbody tr th {\n",
       "        vertical-align: top;\n",
       "    }\n",
       "\n",
       "    .dataframe thead th {\n",
       "        text-align: right;\n",
       "    }\n",
       "</style>\n",
       "<table border=\"1\" class=\"dataframe\">\n",
       "  <thead>\n",
       "    <tr style=\"text-align: right;\">\n",
       "      <th></th>\n",
       "      <th>Date</th>\n",
       "      <th>Time</th>\n",
       "      <th>PT08.S1(CO)</th>\n",
       "      <th>C6H6(GT)</th>\n",
       "      <th>PT08.S2(NMHC)</th>\n",
       "      <th>PT08.S3(NOx)</th>\n",
       "      <th>PT08.S4(NO2)</th>\n",
       "      <th>PT08.S5(O3)</th>\n",
       "      <th>T</th>\n",
       "      <th>RH</th>\n",
       "      <th>AH</th>\n",
       "    </tr>\n",
       "    <tr>\n",
       "      <th>Date</th>\n",
       "      <th></th>\n",
       "      <th></th>\n",
       "      <th></th>\n",
       "      <th></th>\n",
       "      <th></th>\n",
       "      <th></th>\n",
       "      <th></th>\n",
       "      <th></th>\n",
       "      <th></th>\n",
       "      <th></th>\n",
       "      <th></th>\n",
       "    </tr>\n",
       "  </thead>\n",
       "  <tbody>\n",
       "    <tr>\n",
       "      <th>2004-03-10</th>\n",
       "      <td>2004-03-10</td>\n",
       "      <td>18:00:00</td>\n",
       "      <td>1360.00</td>\n",
       "      <td>11.881723</td>\n",
       "      <td>1045.50</td>\n",
       "      <td>1056.25</td>\n",
       "      <td>1692.00</td>\n",
       "      <td>1267.50</td>\n",
       "      <td>13.60</td>\n",
       "      <td>48.875001</td>\n",
       "      <td>0.757754</td>\n",
       "    </tr>\n",
       "    <tr>\n",
       "      <th>2004-03-10</th>\n",
       "      <td>2004-03-10</td>\n",
       "      <td>19:00:00</td>\n",
       "      <td>1292.25</td>\n",
       "      <td>9.397165</td>\n",
       "      <td>954.75</td>\n",
       "      <td>1173.75</td>\n",
       "      <td>1558.75</td>\n",
       "      <td>972.25</td>\n",
       "      <td>13.30</td>\n",
       "      <td>47.700000</td>\n",
       "      <td>0.725487</td>\n",
       "    </tr>\n",
       "    <tr>\n",
       "      <th>2004-03-10</th>\n",
       "      <td>2004-03-10</td>\n",
       "      <td>20:00:00</td>\n",
       "      <td>1402.00</td>\n",
       "      <td>8.997817</td>\n",
       "      <td>939.25</td>\n",
       "      <td>1140.00</td>\n",
       "      <td>1554.50</td>\n",
       "      <td>1074.00</td>\n",
       "      <td>11.90</td>\n",
       "      <td>53.975000</td>\n",
       "      <td>0.750239</td>\n",
       "    </tr>\n",
       "    <tr>\n",
       "      <th>2004-03-10</th>\n",
       "      <td>2004-03-10</td>\n",
       "      <td>21:00:00</td>\n",
       "      <td>1375.50</td>\n",
       "      <td>9.228796</td>\n",
       "      <td>948.25</td>\n",
       "      <td>1092.00</td>\n",
       "      <td>1583.75</td>\n",
       "      <td>1203.25</td>\n",
       "      <td>11.00</td>\n",
       "      <td>60.000000</td>\n",
       "      <td>0.786713</td>\n",
       "    </tr>\n",
       "    <tr>\n",
       "      <th>2004-03-10</th>\n",
       "      <td>2004-03-10</td>\n",
       "      <td>22:00:00</td>\n",
       "      <td>1272.25</td>\n",
       "      <td>6.518224</td>\n",
       "      <td>835.50</td>\n",
       "      <td>1205.00</td>\n",
       "      <td>1490.00</td>\n",
       "      <td>1110.00</td>\n",
       "      <td>11.15</td>\n",
       "      <td>59.575001</td>\n",
       "      <td>0.788794</td>\n",
       "    </tr>\n",
       "  </tbody>\n",
       "</table>\n",
       "</div>"
      ],
      "text/plain": [
       "                 Date      Time  PT08.S1(CO)   C6H6(GT)  PT08.S2(NMHC)  \\\n",
       "Date                                                                     \n",
       "2004-03-10 2004-03-10  18:00:00      1360.00  11.881723        1045.50   \n",
       "2004-03-10 2004-03-10  19:00:00      1292.25   9.397165         954.75   \n",
       "2004-03-10 2004-03-10  20:00:00      1402.00   8.997817         939.25   \n",
       "2004-03-10 2004-03-10  21:00:00      1375.50   9.228796         948.25   \n",
       "2004-03-10 2004-03-10  22:00:00      1272.25   6.518224         835.50   \n",
       "\n",
       "            PT08.S3(NOx)  PT08.S4(NO2)  PT08.S5(O3)      T         RH  \\\n",
       "Date                                                                    \n",
       "2004-03-10       1056.25       1692.00      1267.50  13.60  48.875001   \n",
       "2004-03-10       1173.75       1558.75       972.25  13.30  47.700000   \n",
       "2004-03-10       1140.00       1554.50      1074.00  11.90  53.975000   \n",
       "2004-03-10       1092.00       1583.75      1203.25  11.00  60.000000   \n",
       "2004-03-10       1205.00       1490.00      1110.00  11.15  59.575001   \n",
       "\n",
       "                  AH  \n",
       "Date                  \n",
       "2004-03-10  0.757754  \n",
       "2004-03-10  0.725487  \n",
       "2004-03-10  0.750239  \n",
       "2004-03-10  0.786713  \n",
       "2004-03-10  0.788794  "
      ]
     },
     "execution_count": 156,
     "metadata": {},
     "output_type": "execute_result"
    }
   ],
   "source": [
    "data.head()"
   ]
  },
  {
   "cell_type": "code",
   "execution_count": 157,
   "metadata": {},
   "outputs": [],
   "source": [
    "data = data.resample('D').mean()"
   ]
  },
  {
   "cell_type": "code",
   "execution_count": 158,
   "metadata": {},
   "outputs": [],
   "source": [
    "data=data.interpolate()"
   ]
  },
  {
   "cell_type": "code",
   "execution_count": 159,
   "metadata": {},
   "outputs": [
    {
     "data": {
      "text/plain": [
       "Text(0.5,1,'Original Data')"
      ]
     },
     "execution_count": 159,
     "metadata": {},
     "output_type": "execute_result"
    },
    {
     "data": {
      "image/png": "[encoded data removed]",
      "text/plain": [
       "<Figure size 432x288 with 1 Axes>"
      ]
     },
     "metadata": {},
     "output_type": "display_data"
    }
   ],
   "source": [
    "plt.plot(data)\n",
    "plt.xlabel('Dates')\n",
    "plt.title('Original Data')"
   ]
  },
  {
   "cell_type": "code",
   "execution_count": 160,
   "metadata": {},
   "outputs": [
    {
     "data": {
      "text/plain": [
       "(391, 9)"
      ]
     },
     "execution_count": 160,
     "metadata": {},
     "output_type": "execute_result"
    }
   ],
   "source": [
    "data.shape"
   ]
  },
  {
   "cell_type": "code",
   "execution_count": 161,
   "metadata": {},
   "outputs": [
    {
     "data": {
      "text/html": [
       "<div>\n",
       "<style scoped>\n",
       "    .dataframe tbody tr th:only-of-type {\n",
       "        vertical-align: middle;\n",
       "    }\n",
       "\n",
       "    .dataframe tbody tr th {\n",
       "        vertical-align: top;\n",
       "    }\n",
       "\n",
       "    .dataframe thead th {\n",
       "        text-align: right;\n",
       "    }\n",
       "</style>\n",
       "<table border=\"1\" class=\"dataframe\">\n",
       "  <thead>\n",
       "    <tr style=\"text-align: right;\">\n",
       "      <th></th>\n",
       "      <th>PT08.S1(CO)</th>\n",
       "      <th>C6H6(GT)</th>\n",
       "      <th>PT08.S2(NMHC)</th>\n",
       "      <th>PT08.S3(NOx)</th>\n",
       "      <th>PT08.S4(NO2)</th>\n",
       "      <th>PT08.S5(O3)</th>\n",
       "      <th>T</th>\n",
       "      <th>RH</th>\n",
       "      <th>AH</th>\n",
       "    </tr>\n",
       "  </thead>\n",
       "  <tbody>\n",
       "    <tr>\n",
       "      <th>count</th>\n",
       "      <td>391.000000</td>\n",
       "      <td>391.000000</td>\n",
       "      <td>391.000000</td>\n",
       "      <td>391.000000</td>\n",
       "      <td>391.000000</td>\n",
       "      <td>391.000000</td>\n",
       "      <td>391.000000</td>\n",
       "      <td>391.000000</td>\n",
       "      <td>391.000000</td>\n",
       "    </tr>\n",
       "    <tr>\n",
       "      <th>mean</th>\n",
       "      <td>1049.422840</td>\n",
       "      <td>1.884527</td>\n",
       "      <td>894.479037</td>\n",
       "      <td>795.538829</td>\n",
       "      <td>1391.470197</td>\n",
       "      <td>975.203160</td>\n",
       "      <td>9.787800</td>\n",
       "      <td>39.516323</td>\n",
       "      <td>-6.815767</td>\n",
       "    </tr>\n",
       "    <tr>\n",
       "      <th>std</th>\n",
       "      <td>263.228481</td>\n",
       "      <td>36.472677</td>\n",
       "      <td>243.532302</td>\n",
       "      <td>244.999240</td>\n",
       "      <td>394.566713</td>\n",
       "      <td>336.417449</td>\n",
       "      <td>38.499775</td>\n",
       "      <td>45.015400</td>\n",
       "      <td>34.713390</td>\n",
       "    </tr>\n",
       "    <tr>\n",
       "      <th>min</th>\n",
       "      <td>-200.000000</td>\n",
       "      <td>-200.000000</td>\n",
       "      <td>-200.000000</td>\n",
       "      <td>-200.000000</td>\n",
       "      <td>-200.000000</td>\n",
       "      <td>-200.000000</td>\n",
       "      <td>-200.000000</td>\n",
       "      <td>-200.000000</td>\n",
       "      <td>-200.000000</td>\n",
       "    </tr>\n",
       "    <tr>\n",
       "      <th>25%</th>\n",
       "      <td>975.744792</td>\n",
       "      <td>6.052953</td>\n",
       "      <td>810.583333</td>\n",
       "      <td>691.239583</td>\n",
       "      <td>1218.838542</td>\n",
       "      <td>796.895833</td>\n",
       "      <td>10.429687</td>\n",
       "      <td>37.051562</td>\n",
       "      <td>0.650306</td>\n",
       "    </tr>\n",
       "    <tr>\n",
       "      <th>50%</th>\n",
       "      <td>1084.465278</td>\n",
       "      <td>9.140299</td>\n",
       "      <td>927.968750</td>\n",
       "      <td>803.343750</td>\n",
       "      <td>1487.357639</td>\n",
       "      <td>993.500000</td>\n",
       "      <td>17.331250</td>\n",
       "      <td>46.546875</td>\n",
       "      <td>0.964020</td>\n",
       "    </tr>\n",
       "    <tr>\n",
       "      <th>75%</th>\n",
       "      <td>1187.984375</td>\n",
       "      <td>12.834336</td>\n",
       "      <td>1040.645833</td>\n",
       "      <td>930.678819</td>\n",
       "      <td>1666.032986</td>\n",
       "      <td>1192.015625</td>\n",
       "      <td>23.728299</td>\n",
       "      <td>57.444792</td>\n",
       "      <td>1.259409</td>\n",
       "    </tr>\n",
       "    <tr>\n",
       "      <th>max</th>\n",
       "      <td>1513.208333</td>\n",
       "      <td>23.840736</td>\n",
       "      <td>1355.104167</td>\n",
       "      <td>1678.687500</td>\n",
       "      <td>1959.208333</td>\n",
       "      <td>1898.965278</td>\n",
       "      <td>32.997917</td>\n",
       "      <td>81.104167</td>\n",
       "      <td>1.997819</td>\n",
       "    </tr>\n",
       "  </tbody>\n",
       "</table>\n",
       "</div>"
      ],
      "text/plain": [
       "       PT08.S1(CO)    C6H6(GT)  PT08.S2(NMHC)  PT08.S3(NOx)  PT08.S4(NO2)  \\\n",
       "count   391.000000  391.000000     391.000000    391.000000    391.000000   \n",
       "mean   1049.422840    1.884527     894.479037    795.538829   1391.470197   \n",
       "std     263.228481   36.472677     243.532302    244.999240    394.566713   \n",
       "min    -200.000000 -200.000000    -200.000000   -200.000000   -200.000000   \n",
       "25%     975.744792    6.052953     810.583333    691.239583   1218.838542   \n",
       "50%    1084.465278    9.140299     927.968750    803.343750   1487.357639   \n",
       "75%    1187.984375   12.834336    1040.645833    930.678819   1666.032986   \n",
       "max    1513.208333   23.840736    1355.104167   1678.687500   1959.208333   \n",
       "\n",
       "       PT08.S5(O3)           T          RH          AH  \n",
       "count   391.000000  391.000000  391.000000  391.000000  \n",
       "mean    975.203160    9.787800   39.516323   -6.815767  \n",
       "std     336.417449   38.499775   45.015400   34.713390  \n",
       "min    -200.000000 -200.000000 -200.000000 -200.000000  \n",
       "25%     796.895833   10.429687   37.051562    0.650306  \n",
       "50%     993.500000   17.331250   46.546875    0.964020  \n",
       "75%    1192.015625   23.728299   57.444792    1.259409  \n",
       "max    1898.965278   32.997917   81.104167    1.997819  "
      ]
     },
     "execution_count": 161,
     "metadata": {},
     "output_type": "execute_result"
    }
   ],
   "source": [
    "data.describe()"
   ]
  },
  {
   "cell_type": "markdown",
   "metadata": {},
   "source": [
    "## Multivariate Time Series Prediction"
   ]
  },
  {
   "cell_type": "code",
   "execution_count": 162,
   "metadata": {},
   "outputs": [],
   "source": [
    "data1 = pd.read_excel(\"AirQualityUCI.xlsx\", parse_dates=[['Date', 'Time']])"
   ]
  },
  {
   "cell_type": "code",
   "execution_count": 163,
   "metadata": {},
   "outputs": [
    {
     "data": {
      "text/plain": [
       "Date_Time        datetime64[ns]\n",
       "CO(GT)                  float64\n",
       "PT08.S1(CO)             float64\n",
       "NMHC(GT)                  int64\n",
       "C6H6(GT)                float64\n",
       "PT08.S2(NMHC)           float64\n",
       "NOx(GT)                 float64\n",
       "PT08.S3(NOx)            float64\n",
       "NO2(GT)                 float64\n",
       "PT08.S4(NO2)            float64\n",
       "PT08.S5(O3)             float64\n",
       "T                       float64\n",
       "RH                      float64\n",
       "AH                      float64\n",
       "dtype: object"
      ]
     },
     "execution_count": 163,
     "metadata": {},
     "output_type": "execute_result"
    }
   ],
   "source": [
    "data1.dtypes"
   ]
  },
  {
   "cell_type": "code",
   "execution_count": 164,
   "metadata": {},
   "outputs": [
    {
     "data": {
      "text/html": [
       "<div>\n",
       "<style scoped>\n",
       "    .dataframe tbody tr th:only-of-type {\n",
       "        vertical-align: middle;\n",
       "    }\n",
       "\n",
       "    .dataframe tbody tr th {\n",
       "        vertical-align: top;\n",
       "    }\n",
       "\n",
       "    .dataframe thead th {\n",
       "        text-align: right;\n",
       "    }\n",
       "</style>\n",
       "<table border=\"1\" class=\"dataframe\">\n",
       "  <thead>\n",
       "    <tr style=\"text-align: right;\">\n",
       "      <th></th>\n",
       "      <th>CO(GT)</th>\n",
       "      <th>PT08.S1(CO)</th>\n",
       "      <th>NMHC(GT)</th>\n",
       "      <th>C6H6(GT)</th>\n",
       "      <th>PT08.S2(NMHC)</th>\n",
       "      <th>NOx(GT)</th>\n",
       "      <th>PT08.S3(NOx)</th>\n",
       "      <th>NO2(GT)</th>\n",
       "      <th>PT08.S4(NO2)</th>\n",
       "      <th>PT08.S5(O3)</th>\n",
       "      <th>T</th>\n",
       "      <th>RH</th>\n",
       "      <th>AH</th>\n",
       "    </tr>\n",
       "  </thead>\n",
       "  <tbody>\n",
       "    <tr>\n",
       "      <th>count</th>\n",
       "      <td>9357.000000</td>\n",
       "      <td>9357.000000</td>\n",
       "      <td>9357.000000</td>\n",
       "      <td>9357.000000</td>\n",
       "      <td>9357.000000</td>\n",
       "      <td>9357.000000</td>\n",
       "      <td>9357.000000</td>\n",
       "      <td>9357.000000</td>\n",
       "      <td>9357.000000</td>\n",
       "      <td>9357.000000</td>\n",
       "      <td>9357.000000</td>\n",
       "      <td>9357.000000</td>\n",
       "      <td>9357.000000</td>\n",
       "    </tr>\n",
       "    <tr>\n",
       "      <th>mean</th>\n",
       "      <td>-34.207524</td>\n",
       "      <td>1048.869652</td>\n",
       "      <td>-159.090093</td>\n",
       "      <td>1.865576</td>\n",
       "      <td>894.475963</td>\n",
       "      <td>168.604200</td>\n",
       "      <td>794.872333</td>\n",
       "      <td>58.135898</td>\n",
       "      <td>1391.363266</td>\n",
       "      <td>974.951534</td>\n",
       "      <td>9.776600</td>\n",
       "      <td>39.483611</td>\n",
       "      <td>-6.837604</td>\n",
       "    </tr>\n",
       "    <tr>\n",
       "      <th>std</th>\n",
       "      <td>77.657170</td>\n",
       "      <td>329.817015</td>\n",
       "      <td>139.789093</td>\n",
       "      <td>41.380154</td>\n",
       "      <td>342.315902</td>\n",
       "      <td>257.424561</td>\n",
       "      <td>321.977031</td>\n",
       "      <td>126.931428</td>\n",
       "      <td>467.192382</td>\n",
       "      <td>456.922728</td>\n",
       "      <td>43.203438</td>\n",
       "      <td>51.215645</td>\n",
       "      <td>38.976670</td>\n",
       "    </tr>\n",
       "    <tr>\n",
       "      <th>min</th>\n",
       "      <td>-200.000000</td>\n",
       "      <td>-200.000000</td>\n",
       "      <td>-200.000000</td>\n",
       "      <td>-200.000000</td>\n",
       "      <td>-200.000000</td>\n",
       "      <td>-200.000000</td>\n",
       "      <td>-200.000000</td>\n",
       "      <td>-200.000000</td>\n",
       "      <td>-200.000000</td>\n",
       "      <td>-200.000000</td>\n",
       "      <td>-200.000000</td>\n",
       "      <td>-200.000000</td>\n",
       "      <td>-200.000000</td>\n",
       "    </tr>\n",
       "    <tr>\n",
       "      <th>25%</th>\n",
       "      <td>0.600000</td>\n",
       "      <td>921.000000</td>\n",
       "      <td>-200.000000</td>\n",
       "      <td>4.004958</td>\n",
       "      <td>711.000000</td>\n",
       "      <td>50.000000</td>\n",
       "      <td>637.000000</td>\n",
       "      <td>53.000000</td>\n",
       "      <td>1184.750000</td>\n",
       "      <td>699.750000</td>\n",
       "      <td>10.950000</td>\n",
       "      <td>34.050000</td>\n",
       "      <td>0.692275</td>\n",
       "    </tr>\n",
       "    <tr>\n",
       "      <th>50%</th>\n",
       "      <td>1.500000</td>\n",
       "      <td>1052.500000</td>\n",
       "      <td>-200.000000</td>\n",
       "      <td>7.886653</td>\n",
       "      <td>894.500000</td>\n",
       "      <td>141.000000</td>\n",
       "      <td>794.250000</td>\n",
       "      <td>96.000000</td>\n",
       "      <td>1445.500000</td>\n",
       "      <td>942.000000</td>\n",
       "      <td>17.200000</td>\n",
       "      <td>48.550000</td>\n",
       "      <td>0.976823</td>\n",
       "    </tr>\n",
       "    <tr>\n",
       "      <th>75%</th>\n",
       "      <td>2.600000</td>\n",
       "      <td>1221.250000</td>\n",
       "      <td>-200.000000</td>\n",
       "      <td>13.636091</td>\n",
       "      <td>1104.750000</td>\n",
       "      <td>284.200000</td>\n",
       "      <td>960.250000</td>\n",
       "      <td>133.000000</td>\n",
       "      <td>1662.000000</td>\n",
       "      <td>1255.250000</td>\n",
       "      <td>24.075000</td>\n",
       "      <td>61.875000</td>\n",
       "      <td>1.296223</td>\n",
       "    </tr>\n",
       "    <tr>\n",
       "      <th>max</th>\n",
       "      <td>11.900000</td>\n",
       "      <td>2039.750000</td>\n",
       "      <td>1189.000000</td>\n",
       "      <td>63.741476</td>\n",
       "      <td>2214.000000</td>\n",
       "      <td>1479.000000</td>\n",
       "      <td>2682.750000</td>\n",
       "      <td>339.700000</td>\n",
       "      <td>2775.000000</td>\n",
       "      <td>2522.750000</td>\n",
       "      <td>44.600000</td>\n",
       "      <td>88.725000</td>\n",
       "      <td>2.231036</td>\n",
       "    </tr>\n",
       "  </tbody>\n",
       "</table>\n",
       "</div>"
      ],
      "text/plain": [
       "            CO(GT)  PT08.S1(CO)     NMHC(GT)     C6H6(GT)  PT08.S2(NMHC)  \\\n",
       "count  9357.000000  9357.000000  9357.000000  9357.000000    9357.000000   \n",
       "mean    -34.207524  1048.869652  -159.090093     1.865576     894.475963   \n",
       "std      77.657170   329.817015   139.789093    41.380154     342.315902   \n",
       "min    -200.000000  -200.000000  -200.000000  -200.000000    -200.000000   \n",
       "25%       0.600000   921.000000  -200.000000     4.004958     711.000000   \n",
       "50%       1.500000  1052.500000  -200.000000     7.886653     894.500000   \n",
       "75%       2.600000  1221.250000  -200.000000    13.636091    1104.750000   \n",
       "max      11.900000  2039.750000  1189.000000    63.741476    2214.000000   \n",
       "\n",
       "           NOx(GT)  PT08.S3(NOx)      NO2(GT)  PT08.S4(NO2)  PT08.S5(O3)  \\\n",
       "count  9357.000000   9357.000000  9357.000000   9357.000000  9357.000000   \n",
       "mean    168.604200    794.872333    58.135898   1391.363266   974.951534   \n",
       "std     257.424561    321.977031   126.931428    467.192382   456.922728   \n",
       "min    -200.000000   -200.000000  -200.000000   -200.000000  -200.000000   \n",
       "25%      50.000000    637.000000    53.000000   1184.750000   699.750000   \n",
       "50%     141.000000    794.250000    96.000000   1445.500000   942.000000   \n",
       "75%     284.200000    960.250000   133.000000   1662.000000  1255.250000   \n",
       "max    1479.000000   2682.750000   339.700000   2775.000000  2522.750000   \n",
       "\n",
       "                 T           RH           AH  \n",
       "count  9357.000000  9357.000000  9357.000000  \n",
       "mean      9.776600    39.483611    -6.837604  \n",
       "std      43.203438    51.215645    38.976670  \n",
       "min    -200.000000  -200.000000  -200.000000  \n",
       "25%      10.950000    34.050000     0.692275  \n",
       "50%      17.200000    48.550000     0.976823  \n",
       "75%      24.075000    61.875000     1.296223  \n",
       "max      44.600000    88.725000     2.231036  "
      ]
     },
     "execution_count": 164,
     "metadata": {},
     "output_type": "execute_result"
    }
   ],
   "source": [
    "data1.describe()"
   ]
  },
  {
   "cell_type": "code",
   "execution_count": 165,
   "metadata": {},
   "outputs": [
    {
     "data": {
      "text/html": [
       "<div>\n",
       "<style scoped>\n",
       "    .dataframe tbody tr th:only-of-type {\n",
       "        vertical-align: middle;\n",
       "    }\n",
       "\n",
       "    .dataframe tbody tr th {\n",
       "        vertical-align: top;\n",
       "    }\n",
       "\n",
       "    .dataframe thead th {\n",
       "        text-align: right;\n",
       "    }\n",
       "</style>\n",
       "<table border=\"1\" class=\"dataframe\">\n",
       "  <thead>\n",
       "    <tr style=\"text-align: right;\">\n",
       "      <th></th>\n",
       "      <th>Date_Time</th>\n",
       "      <th>CO(GT)</th>\n",
       "      <th>PT08.S1(CO)</th>\n",
       "      <th>NMHC(GT)</th>\n",
       "      <th>C6H6(GT)</th>\n",
       "      <th>PT08.S2(NMHC)</th>\n",
       "      <th>NOx(GT)</th>\n",
       "      <th>PT08.S3(NOx)</th>\n",
       "      <th>NO2(GT)</th>\n",
       "      <th>PT08.S4(NO2)</th>\n",
       "      <th>PT08.S5(O3)</th>\n",
       "      <th>T</th>\n",
       "      <th>RH</th>\n",
       "      <th>AH</th>\n",
       "    </tr>\n",
       "  </thead>\n",
       "  <tbody>\n",
       "    <tr>\n",
       "      <th>0</th>\n",
       "      <td>2004-03-10 18:00:00</td>\n",
       "      <td>2.6</td>\n",
       "      <td>1360.00</td>\n",
       "      <td>150</td>\n",
       "      <td>11.881723</td>\n",
       "      <td>1045.50</td>\n",
       "      <td>166.0</td>\n",
       "      <td>1056.25</td>\n",
       "      <td>113.0</td>\n",
       "      <td>1692.00</td>\n",
       "      <td>1267.50</td>\n",
       "      <td>13.60</td>\n",
       "      <td>48.875001</td>\n",
       "      <td>0.757754</td>\n",
       "    </tr>\n",
       "    <tr>\n",
       "      <th>1</th>\n",
       "      <td>2004-03-10 19:00:00</td>\n",
       "      <td>2.0</td>\n",
       "      <td>1292.25</td>\n",
       "      <td>112</td>\n",
       "      <td>9.397165</td>\n",
       "      <td>954.75</td>\n",
       "      <td>103.0</td>\n",
       "      <td>1173.75</td>\n",
       "      <td>92.0</td>\n",
       "      <td>1558.75</td>\n",
       "      <td>972.25</td>\n",
       "      <td>13.30</td>\n",
       "      <td>47.700000</td>\n",
       "      <td>0.725487</td>\n",
       "    </tr>\n",
       "    <tr>\n",
       "      <th>2</th>\n",
       "      <td>2004-03-10 20:00:00</td>\n",
       "      <td>2.2</td>\n",
       "      <td>1402.00</td>\n",
       "      <td>88</td>\n",
       "      <td>8.997817</td>\n",
       "      <td>939.25</td>\n",
       "      <td>131.0</td>\n",
       "      <td>1140.00</td>\n",
       "      <td>114.0</td>\n",
       "      <td>1554.50</td>\n",
       "      <td>1074.00</td>\n",
       "      <td>11.90</td>\n",
       "      <td>53.975000</td>\n",
       "      <td>0.750239</td>\n",
       "    </tr>\n",
       "    <tr>\n",
       "      <th>3</th>\n",
       "      <td>2004-03-10 21:00:00</td>\n",
       "      <td>2.2</td>\n",
       "      <td>1375.50</td>\n",
       "      <td>80</td>\n",
       "      <td>9.228796</td>\n",
       "      <td>948.25</td>\n",
       "      <td>172.0</td>\n",
       "      <td>1092.00</td>\n",
       "      <td>122.0</td>\n",
       "      <td>1583.75</td>\n",
       "      <td>1203.25</td>\n",
       "      <td>11.00</td>\n",
       "      <td>60.000000</td>\n",
       "      <td>0.786713</td>\n",
       "    </tr>\n",
       "    <tr>\n",
       "      <th>4</th>\n",
       "      <td>2004-03-10 22:00:00</td>\n",
       "      <td>1.6</td>\n",
       "      <td>1272.25</td>\n",
       "      <td>51</td>\n",
       "      <td>6.518224</td>\n",
       "      <td>835.50</td>\n",
       "      <td>131.0</td>\n",
       "      <td>1205.00</td>\n",
       "      <td>116.0</td>\n",
       "      <td>1490.00</td>\n",
       "      <td>1110.00</td>\n",
       "      <td>11.15</td>\n",
       "      <td>59.575001</td>\n",
       "      <td>0.788794</td>\n",
       "    </tr>\n",
       "  </tbody>\n",
       "</table>\n",
       "</div>"
      ],
      "text/plain": [
       "            Date_Time  CO(GT)  PT08.S1(CO)  NMHC(GT)   C6H6(GT)  \\\n",
       "0 2004-03-10 18:00:00     2.6      1360.00       150  11.881723   \n",
       "1 2004-03-10 19:00:00     2.0      1292.25       112   9.397165   \n",
       "2 2004-03-10 20:00:00     2.2      1402.00        88   8.997817   \n",
       "3 2004-03-10 21:00:00     2.2      1375.50        80   9.228796   \n",
       "4 2004-03-10 22:00:00     1.6      1272.25        51   6.518224   \n",
       "\n",
       "   PT08.S2(NMHC)  NOx(GT)  PT08.S3(NOx)  NO2(GT)  PT08.S4(NO2)  PT08.S5(O3)  \\\n",
       "0        1045.50    166.0       1056.25    113.0       1692.00      1267.50   \n",
       "1         954.75    103.0       1173.75     92.0       1558.75       972.25   \n",
       "2         939.25    131.0       1140.00    114.0       1554.50      1074.00   \n",
       "3         948.25    172.0       1092.00    122.0       1583.75      1203.25   \n",
       "4         835.50    131.0       1205.00    116.0       1490.00      1110.00   \n",
       "\n",
       "       T         RH        AH  \n",
       "0  13.60  48.875001  0.757754  \n",
       "1  13.30  47.700000  0.725487  \n",
       "2  11.90  53.975000  0.750239  \n",
       "3  11.00  60.000000  0.786713  \n",
       "4  11.15  59.575001  0.788794  "
      ]
     },
     "execution_count": 165,
     "metadata": {},
     "output_type": "execute_result"
    }
   ],
   "source": [
    "data1.head()"
   ]
  },
  {
   "cell_type": "code",
   "execution_count": 166,
   "metadata": {},
   "outputs": [],
   "source": [
    "data1['Date_Time'] = pd.to_datetime(data1.Date_Time , format = '%d/%m/%Y %H.%M.%S')\n",
    "newdata = data1.drop(['Date_Time'], axis=1)\n",
    "newdata.index = data1.Date_Time"
   ]
  },
  {
   "cell_type": "code",
   "execution_count": 167,
   "metadata": {},
   "outputs": [],
   "source": [
    "#missing value treatment\n",
    "cols = data.columns\n",
    "for j in cols:\n",
    "    for i in range(0,len(data)):\n",
    "       if data[j][i] == -200:\n",
    "           data[j][i] = data[j][i-1]"
   ]
  },
  {
   "cell_type": "code",
   "execution_count": 168,
   "metadata": {},
   "outputs": [
    {
     "name": "stderr",
     "output_type": "stream",
     "text": [
      "/anaconda3/lib/python3.6/site-packages/statsmodels/tsa/base/tsa_model.py:171: ValueWarning: No frequency information was provided, so inferred frequency H will be used.\n",
      "  % freq, ValueWarning)\n"
     ]
    }
   ],
   "source": [
    "#creating the train and validation set\n",
    "train = newdata[:int(0.8*(len(data)))]\n",
    "valid = newdata[int(0.8*(len(data))):]\n",
    "\n",
    "#fit the model\n",
    "from statsmodels.tsa.vector_ar.var_model import VAR\n",
    "\n",
    "model = VAR(endog=train)\n",
    "model_fit = model.fit()\n",
    "\n",
    "# make prediction on validation\n",
    "prediction = model_fit.forecast(model_fit.y, steps=len(valid))"
   ]
  },
  {
   "cell_type": "code",
   "execution_count": 169,
   "metadata": {},
   "outputs": [],
   "source": [
    "#converting predictions to dataframe\n",
    "pred = pd.DataFrame(index=range(0,len(prediction)),columns=[cols])\n",
    "for j in range(0,9):\n",
    "    for i in range(0, len(prediction)):\n",
    "       pred.iloc[i][j] = prediction[i][j]"
   ]
  },
  {
   "cell_type": "code",
   "execution_count": 170,
   "metadata": {},
   "outputs": [
    {
     "name": "stdout",
     "output_type": "stream",
     "text": [
      "rmse value for PT08.S1(CO) is :  1097.441654165714\n",
      "rmse value for C6H6(GT) is :  1288.1564077237697\n",
      "rmse value for PT08.S2(NMHC) is :  920.4300796695653\n",
      "rmse value for PT08.S3(NOx) is :  840.1899916231462\n",
      "rmse value for PT08.S4(NO2) is :  616.9797474368794\n",
      "rmse value for PT08.S5(O3) is :  943.7689245291178\n",
      "rmse value for T is :  992.0920645477265\n",
      "rmse value for RH is :  75.762713410273\n",
      "rmse value for AH is :  1662.602595546788\n"
     ]
    }
   ],
   "source": [
    "from math import sqrt\n",
    "from sklearn.metrics import mean_squared_error\n",
    "#check rmse\n",
    "for i in cols:\n",
    "    print('rmse value for', i, 'is : ', sqrt(mean_squared_error(pred[i], valid[i])))"
   ]
  },
  {
   "cell_type": "code",
   "execution_count": 171,
   "metadata": {},
   "outputs": [
    {
     "name": "stdout",
     "output_type": "stream",
     "text": [
      "[[ 4.81569717e+00  1.07718173e+03 -2.02847873e+02  1.10615660e+01\n",
      "   1.04504268e+03  2.61064606e+02  6.48218263e+02  1.49235576e+02\n",
      "   1.15015156e+03  8.45765541e+02  2.60585190e+01  1.45033907e+01\n",
      "  -6.40215300e-01]\n",
      " [ 3.27971069e+00  1.08050570e+03 -2.05292890e+02  1.01399371e+01\n",
      "   1.03928522e+03  2.63323393e+02  6.45356876e+02  1.39106271e+02\n",
      "   1.16531144e+03  8.71335829e+02  2.38452878e+01  1.57831357e+01\n",
      "  -1.67290637e+00]\n",
      " [ 4.60213756e-01  1.08167761e+03 -2.07427196e+02  9.19909744e+00\n",
      "   1.03138389e+03  2.67096136e+02  6.44235609e+02  1.32655389e+02\n",
      "   1.17576546e+03  8.93142675e+02  2.18319753e+01  1.69570009e+01\n",
      "  -2.61424605e+00]\n",
      " [-2.54985196e+00  1.08134501e+03 -2.09287635e+02  8.26489235e+00\n",
      "   1.02223800e+03  2.70575356e+02  6.44280660e+02  1.27926656e+02\n",
      "   1.18281938e+03  9.11575543e+02  1.99984812e+01  1.80310071e+01\n",
      "  -3.47479874e+00]\n",
      " [-5.36504973e+00  1.07996362e+03 -2.10892414e+02  7.35598415e+00\n",
      "   1.01244080e+03  2.73188656e+02  6.45176496e+02  1.24082361e+02\n",
      "   1.18742638e+03  9.27006316e+02  1.83284055e+01  1.90156262e+01\n",
      "  -4.26165403e+00]\n",
      " [-7.87576179e+00  1.07786295e+03 -2.12254496e+02  6.48490375e+00\n",
      "   1.00239154e+03  2.74847122e+02  6.46722964e+02  1.20752376e+02\n",
      "   1.19028409e+03  9.39792085e+02  1.68073423e+01  1.99221487e+01\n",
      "  -4.98040113e+00]\n",
      " [-1.00750977e+01  1.07528570e+03 -2.13386075e+02  5.65950010e+00\n",
      "   9.92361786e+02  2.75638890e+02  6.48776234e+02  1.17764949e+02\n",
      "   1.19190534e+03  9.50271546e+02  1.54222509e+01  2.07612310e+01\n",
      "  -5.63590986e+00]\n",
      " [-1.19905604e+01  1.07241279e+03 -2.14299776e+02  4.88422676e+00\n",
      "   9.82536494e+02  2.75705415e+02  6.51223973e+02  1.15034466e+02\n",
      "   1.19266885e+03  9.58760706e+02  1.41612194e+01  2.15423725e+01\n",
      "  -6.23263571e+00]\n",
      " [-1.36578785e+01  1.06937990e+03 -2.15008746e+02  4.16114264e+00\n",
      "   9.73040554e+02  2.75192756e+02  6.53974456e+02  1.12514051e+02\n",
      "   1.19285536e+03  9.65549691e+02  1.30133583e+01  2.22737907e+01\n",
      "  -6.77473753e+00]\n",
      " [-1.51116141e+01  1.06628892e+03 -2.15526448e+02  3.49064768e+00\n",
      "   9.63956393e+02  2.74233665e+02  6.56951374e+02  1.10175110e+02\n",
      "   1.19267335e+03  9.70901016e+02  1.19687319e+01  2.29624652e+01\n",
      "  -7.26612378e+00]]\n"
     ]
    },
    {
     "name": "stderr",
     "output_type": "stream",
     "text": [
      "/anaconda3/lib/python3.6/site-packages/statsmodels/tsa/base/tsa_model.py:171: ValueWarning: No frequency information was provided, so inferred frequency H will be used.\n",
      "  % freq, ValueWarning)\n"
     ]
    }
   ],
   "source": [
    "#make final predictions\n",
    "model = VAR(endog=newdata)\n",
    "model_fit = model.fit()\n",
    "yhat = model_fit.forecast(model_fit.y, steps=10)\n",
    "print(yhat)"
   ]
  }
 ],
 "metadata": {
  "kernelspec": {
   "display_name": "Python 3",
   "language": "python",
   "name": "python3"
  },
  "language_info": {
   "codemirror_mode": {
    "name": "ipython",
    "version": 3
   },
   "file_extension": ".py",
   "mimetype": "text/x-python",
   "name": "python",
   "nbconvert_exporter": "python",
   "pygments_lexer": "ipython3",
   "version": "3.6.8"
  }
 },
 "nbformat": 4,
 "nbformat_minor": 2
}
