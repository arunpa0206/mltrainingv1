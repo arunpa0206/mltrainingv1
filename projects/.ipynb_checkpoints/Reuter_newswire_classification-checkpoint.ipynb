{
 "cells": [
  {
   "cell_type": "code",
   "execution_count": 33,
   "metadata": {},
   "outputs": [],
   "source": [
    "import os\n",
    "import numpy as np\n",
    "import matplotlib.pyplot as plt\n",
    "\n",
    "plt.style.use('ggplot')\n",
    "\n",
    "import tensorflow as tf\n",
    "\n",
    "from keras import models, regularizers, layers, optimizers, losses, metrics\n",
    "from keras.models import Sequential\n",
    "from keras.layers import Dense\n",
    "from keras.utils import np_utils, to_categorical\n",
    " \n",
    "from keras.datasets import reuters"
   ]
  },
  {
   "cell_type": "code",
   "execution_count": 34,
   "metadata": {},
   "outputs": [
    {
     "name": "stdout",
     "output_type": "stream",
     "text": [
      "train_data  (8982,)\n",
      "train_labels  (8982,)\n",
      "test_data  (2246,)\n",
      "test_labels  (2246,)\n"
     ]
    }
   ],
   "source": [
    "(train_data, train_labels), (test_data, test_labels) = reuters.load_data(num_words=10000)\n",
    "\n",
    "print(\"train_data \", train_data.shape)\n",
    "print(\"train_labels \", train_labels.shape)\n",
    "\n",
    "print(\"test_data \", test_data.shape)\n",
    "print(\"test_labels \", test_labels.shape)"
   ]
  },
  {
   "cell_type": "code",
   "execution_count": 38,
   "metadata": {},
   "outputs": [
    {
     "name": "stdout",
     "output_type": "stream",
     "text": [
      "- - - said as a result of its december acquisition of space co it expects earnings per share in 1987 of 1 15 to 1 30 dlrs per share up from 70 cts in 1986 the company said pretax net should rise to nine to 10 mln dlrs from six mln dlrs in 1986 and rental operation revenues to 19 to 22 mln dlrs from 12 5 mln dlrs it said cash flow per share this year should be 2 50 to three dlrs reuter 3\n",
      "3\n"
     ]
    }
   ],
   "source": [
    "# Reverse dictionary to see words instead of integers\n",
    "\n",
    "word_index = reuters.get_word_index()\n",
    "reverse_word_index = dict([(value, key) for (key, value) in word_index.items()])\n",
    "decoded_newswire = ' '.join([reverse_word_index.get(i - 3, '-') for i in\n",
    "train_data[0]])\n",
    "\n",
    "print(decoded_newswire)\n",
    "print(train_labels[0])"
   ]
  },
  {
   "cell_type": "code",
   "execution_count": 39,
   "metadata": {},
   "outputs": [],
   "source": [
    "# VECTORIZE function\n",
    "\n",
    "def vectorize_sequences(sequences, dimension=10000):\n",
    "    results = np.zeros((len(sequences), dimension))\n",
    "    for i, sequence in enumerate(sequences):\n",
    "        results[i, sequence] = 1.\n",
    "    return results"
   ]
  },
  {
   "cell_type": "code",
   "execution_count": 41,
   "metadata": {},
   "outputs": [
    {
     "name": "stdout",
     "output_type": "stream",
     "text": [
      "x_train  (8982, 10000)\n",
      "x_test  (2246, 10000)\n"
     ]
    }
   ],
   "source": [
    "# Vectorize and Normalize train and test to tensors with 10k columns\n",
    "\n",
    "x_train = vectorize_sequences(train_data)\n",
    "x_test = vectorize_sequences(test_data)\n",
    "\n",
    "\n",
    "print(\"x_train \", x_train.shape)\n",
    "print(\"x_test \", x_test.shape)"
   ]
  },
  {
   "cell_type": "code",
   "execution_count": 42,
   "metadata": {},
   "outputs": [
    {
     "name": "stdout",
     "output_type": "stream",
     "text": [
      "one_hot_train_labels  (8982, 46)\n",
      "one_hot_test_labels  (2246, 46)\n"
     ]
    }
   ],
   "source": [
    "# ONE HOT ENCODER of the labels\n",
    "\n",
    "one_hot_train_labels = to_categorical(train_labels)\n",
    "one_hot_test_labels = to_categorical(test_labels)\n",
    "\n",
    "print(\"one_hot_train_labels \", one_hot_train_labels.shape)\n",
    "print(\"one_hot_test_labels \", one_hot_test_labels.shape)\n"
   ]
  },
  {
   "cell_type": "code",
   "execution_count": 43,
   "metadata": {},
   "outputs": [
    {
     "name": "stdout",
     "output_type": "stream",
     "text": [
      "x_val  (1000, 10000)\n",
      "y_val  (1000, 46)\n",
      "partial_x_train  (7982, 10000)\n",
      "partial_y_train  (7982, 46)\n"
     ]
    }
   ],
   "source": [
    "x_val = x_train[:1000]\n",
    "partial_x_train = x_train[1000:]\n",
    "y_val = one_hot_train_labels[:1000]\n",
    "partial_y_train = one_hot_train_labels[1000:]\n",
    "\n",
    "print(\"x_val \", x_val.shape)\n",
    "print(\"y_val \", y_val.shape)\n",
    "\n",
    "print(\"partial_x_train \", partial_x_train.shape)\n",
    "print(\"partial_y_train \", partial_y_train.shape)"
   ]
  },
  {
   "cell_type": "code",
   "execution_count": 44,
   "metadata": {},
   "outputs": [
    {
     "name": "stdout",
     "output_type": "stream",
     "text": [
      "Train on 7982 samples, validate on 1000 samples\n",
      "Epoch 1/20\n",
      "7982/7982 [==============================] - 7s 910us/step - loss: 15.6790 - acc: 0.4598 - val_loss: 6.1721 - val_acc: 0.5620\n",
      "Epoch 2/20\n",
      "7982/7982 [==============================] - 4s 536us/step - loss: 5.7370 - acc: 0.5594 - val_loss: 5.1666 - val_acc: 0.6570\n",
      "Epoch 3/20\n",
      "7982/7982 [==============================] - 4s 526us/step - loss: 4.9559 - acc: 0.6055 - val_loss: 4.5891 - val_acc: 0.6160\n",
      "Epoch 4/20\n",
      "7982/7982 [==============================] - 5s 574us/step - loss: 4.4332 - acc: 0.6234 - val_loss: 4.1169 - val_acc: 0.6720\n",
      "Epoch 5/20\n",
      "7982/7982 [==============================] - 5s 648us/step - loss: 4.0104 - acc: 0.6462 - val_loss: 3.7856 - val_acc: 0.6620\n",
      "Epoch 6/20\n",
      "7982/7982 [==============================] - 4s 552us/step - loss: 3.7239 - acc: 0.6506 - val_loss: 3.5171 - val_acc: 0.6680\n",
      "Epoch 7/20\n",
      "7982/7982 [==============================] - 4s 535us/step - loss: 3.5175 - acc: 0.6625 - val_loss: 3.3800 - val_acc: 0.6910\n",
      "Epoch 8/20\n",
      "7982/7982 [==============================] - 5s 632us/step - loss: 3.3951 - acc: 0.6738 - val_loss: 3.2958 - val_acc: 0.6900\n",
      "Epoch 9/20\n",
      "7982/7982 [==============================] - 5s 621us/step - loss: 3.3209 - acc: 0.6675 - val_loss: 3.2340 - val_acc: 0.6920\n",
      "Epoch 10/20\n",
      "7982/7982 [==============================] - 5s 646us/step - loss: 3.2627 - acc: 0.6721 - val_loss: 3.1565 - val_acc: 0.6940\n",
      "Epoch 11/20\n",
      "7982/7982 [==============================] - 5s 584us/step - loss: 3.2100 - acc: 0.6785 - val_loss: 3.1060 - val_acc: 0.6940\n",
      "Epoch 12/20\n",
      "7982/7982 [==============================] - 5s 613us/step - loss: 3.1844 - acc: 0.6725 - val_loss: 3.0961 - val_acc: 0.6920\n",
      "Epoch 13/20\n",
      "7982/7982 [==============================] - 4s 535us/step - loss: 3.1351 - acc: 0.6819 - val_loss: 3.0680 - val_acc: 0.7010\n",
      "Epoch 14/20\n",
      "7982/7982 [==============================] - 5s 664us/step - loss: 3.1168 - acc: 0.6810 - val_loss: 3.0312 - val_acc: 0.6970\n",
      "Epoch 15/20\n",
      "7982/7982 [==============================] - 5s 567us/step - loss: 3.0939 - acc: 0.6792 - val_loss: 3.0203 - val_acc: 0.6990\n",
      "Epoch 16/20\n",
      "7982/7982 [==============================] - 4s 563us/step - loss: 3.0833 - acc: 0.6850 - val_loss: 2.9833 - val_acc: 0.7000\n",
      "Epoch 17/20\n",
      "7982/7982 [==============================] - 4s 519us/step - loss: 3.0479 - acc: 0.6860 - val_loss: 2.9632 - val_acc: 0.6980\n",
      "Epoch 18/20\n",
      "7982/7982 [==============================] - 5s 580us/step - loss: 3.0440 - acc: 0.6853 - val_loss: 2.9490 - val_acc: 0.6990\n",
      "Epoch 19/20\n",
      "7982/7982 [==============================] - 4s 550us/step - loss: 3.0252 - acc: 0.6885 - val_loss: 2.9630 - val_acc: 0.7020\n",
      "Epoch 20/20\n",
      "7982/7982 [==============================] - 5s 568us/step - loss: 3.0120 - acc: 0.6884 - val_loss: 2.9435 - val_acc: 0.6980\n",
      "1000/1000 [==============================] - 1s 606us/step\n",
      "____________________________________________________________________________________________________\n",
      "Test Loss and Accuracy\n",
      "results  [2.9435041007995606, 0.698]\n"
     ]
    },
    {
     "data": {
      "text/plain": [
       "dict_keys(['val_loss', 'val_acc', 'loss', 'acc'])"
      ]
     },
     "execution_count": 44,
     "metadata": {},
     "output_type": "execute_result"
    }
   ],
   "source": [
    "# MODEL\n",
    "\n",
    "model = models.Sequential()\n",
    "model.add(layers.Dense(256, kernel_regularizer=regularizers.l1(0.001), activation='relu', input_shape=(10000,)))\n",
    "model.add(layers.Dropout(0.5))\n",
    "model.add(layers.Dense(256, kernel_regularizer=regularizers.l1(0.001), activation='relu'))\n",
    "model.add(layers.Dropout(0.5))\n",
    "model.add(layers.Dense(46, activation='softmax'))\n",
    "\n",
    "# FIT / TRAIN model\n",
    "\n",
    "NumEpochs = 20\n",
    "BatchSize = 512\n",
    "\n",
    "model.compile(optimizer='rmsprop',loss='categorical_crossentropy', metrics=['accuracy'])\n",
    "history = model.fit(partial_x_train, partial_y_train, epochs=NumEpochs, batch_size=BatchSize, validation_data=(x_val, y_val))\n",
    "\n",
    "results = model.evaluate(x_val, y_val)\n",
    "print(\"_\"*100)\n",
    "print(\"Test Loss and Accuracy\")\n",
    "print(\"results \", results)\n",
    "\n",
    "history_dict = history.history\n",
    "history_dict.keys()"
   ]
  },
  {
   "cell_type": "code",
   "execution_count": 45,
   "metadata": {},
   "outputs": [
    {
     "data": {
      "image/png": "[encoded data removed]",
      "text/plain": [
       "<Figure size 432x288 with 1 Axes>"
      ]
     },
     "metadata": {},
     "output_type": "display_data"
    }
   ],
   "source": [
    "# VALIDATION LOSS curves\n",
    "\n",
    "plt.clf()\n",
    "loss = history.history['loss']\n",
    "val_loss = history.history['val_loss']\n",
    "epochs = range(1, len(loss) + 1)\n",
    "plt.plot(epochs, loss, 'bo', label='Training loss')\n",
    "plt.plot(epochs, val_loss, 'b', label='Validation loss')\n",
    "plt.title('Training and validation loss')\n",
    "plt.xlabel('Epochs')\n",
    "plt.ylabel('Loss')\n",
    "plt.legend()\n",
    "plt.show()"
   ]
  },
  {
   "cell_type": "code",
   "execution_count": 46,
   "metadata": {},
   "outputs": [
    {
     "data": {
      "image/png": "[encoded data removed]",
      "text/plain": [
       "<Figure size 432x288 with 1 Axes>"
      ]
     },
     "metadata": {},
     "output_type": "display_data"
    }
   ],
   "source": [
    "## VALIDATION ACCURACY curves\n",
    "\n",
    "plt.clf()\n",
    "acc = history.history['acc']\n",
    "val_acc = history.history['val_acc']\n",
    "plt.plot(epochs, acc, 'bo', label='Training acc')\n",
    "plt.plot(epochs, val_acc, 'b', label='Validation acc')\n",
    "plt.title('Training and validation accuracy')\n",
    "plt.xlabel('Epochs')\n",
    "plt.ylabel('Accuracy')\n",
    "plt.legend()\n",
    "plt.show()"
   ]
  },
  {
   "cell_type": "code",
   "execution_count": 47,
   "metadata": {},
   "outputs": [
    {
     "name": "stdout",
     "output_type": "stream",
     "text": [
      "Train on 7982 samples, validate on 1000 samples\n",
      "Epoch 1/20\n",
      "7982/7982 [==============================] - 3s 376us/step - loss: 3.1684 - acc: 0.3143 - val_loss: 2.0974 - val_acc: 0.5480\n",
      "Epoch 2/20\n",
      "7982/7982 [==============================] - 2s 290us/step - loss: 2.0950 - acc: 0.5408 - val_loss: 1.5953 - val_acc: 0.6210\n",
      "Epoch 3/20\n",
      "7982/7982 [==============================] - 2s 294us/step - loss: 1.7229 - acc: 0.6020 - val_loss: 1.4164 - val_acc: 0.6720\n",
      "Epoch 4/20\n",
      "7982/7982 [==============================] - 2s 278us/step - loss: 1.5246 - acc: 0.6407 - val_loss: 1.3004 - val_acc: 0.6990\n",
      "Epoch 5/20\n",
      "7982/7982 [==============================] - 2s 292us/step - loss: 1.4026 - acc: 0.6700 - val_loss: 1.2388 - val_acc: 0.7100\n",
      "Epoch 6/20\n",
      "7982/7982 [==============================] - 2s 275us/step - loss: 1.2911 - acc: 0.6902 - val_loss: 1.1937 - val_acc: 0.7160\n",
      "Epoch 7/20\n",
      "7982/7982 [==============================] - 2s 265us/step - loss: 1.2126 - acc: 0.7096 - val_loss: 1.1469 - val_acc: 0.7370\n",
      "Epoch 8/20\n",
      "7982/7982 [==============================] - 3s 314us/step - loss: 1.1492 - acc: 0.7215 - val_loss: 1.1223 - val_acc: 0.7360\n",
      "Epoch 9/20\n",
      "7982/7982 [==============================] - 2s 276us/step - loss: 1.0850 - acc: 0.7373 - val_loss: 1.0835 - val_acc: 0.7590\n",
      "Epoch 10/20\n",
      "7982/7982 [==============================] - 2s 301us/step - loss: 1.0233 - acc: 0.7482 - val_loss: 1.0663 - val_acc: 0.7600\n",
      "Epoch 11/20\n",
      "7982/7982 [==============================] - 2s 283us/step - loss: 0.9624 - acc: 0.7580 - val_loss: 1.0495 - val_acc: 0.7710\n",
      "Epoch 12/20\n",
      "7982/7982 [==============================] - 2s 289us/step - loss: 0.9369 - acc: 0.7691 - val_loss: 1.0365 - val_acc: 0.7790\n",
      "Epoch 13/20\n",
      "7982/7982 [==============================] - 2s 307us/step - loss: 0.8706 - acc: 0.7831 - val_loss: 1.0280 - val_acc: 0.7780\n",
      "Epoch 14/20\n",
      "7982/7982 [==============================] - 2s 260us/step - loss: 0.8569 - acc: 0.7844 - val_loss: 1.0118 - val_acc: 0.7920\n",
      "Epoch 15/20\n",
      "7982/7982 [==============================] - 2s 299us/step - loss: 0.8185 - acc: 0.7929 - val_loss: 1.0113 - val_acc: 0.7930\n",
      "Epoch 16/20\n",
      "7982/7982 [==============================] - 2s 297us/step - loss: 0.7675 - acc: 0.8061 - val_loss: 1.0007 - val_acc: 0.7960\n",
      "Epoch 17/20\n",
      "7982/7982 [==============================] - 2s 305us/step - loss: 0.7540 - acc: 0.8106 - val_loss: 1.0068 - val_acc: 0.7990\n",
      "Epoch 18/20\n",
      "7982/7982 [==============================] - 2s 289us/step - loss: 0.7160 - acc: 0.8152 - val_loss: 1.0089 - val_acc: 0.7910\n",
      "Epoch 19/20\n",
      "7982/7982 [==============================] - 2s 287us/step - loss: 0.6890 - acc: 0.8271 - val_loss: 1.0088 - val_acc: 0.7980\n",
      "Epoch 20/20\n",
      "7982/7982 [==============================] - 2s 264us/step - loss: 0.6689 - acc: 0.8264 - val_loss: 1.0098 - val_acc: 0.8020\n",
      "2246/2246 [==============================] - 1s 282us/step\n",
      "____________________________________________________________________________________________________\n",
      "[1.1189090902000691, 0.7693677649154052]\n"
     ]
    }
   ],
   "source": [
    "# Retrain from scratch for # of epochs per LEARNING curves above - and evaluate with TEST (which was set aside above)\n",
    "\n",
    "model = models.Sequential()\n",
    "model.add(layers.Dense(64, activation='relu', input_shape=(10000,)))\n",
    "model.add(layers.Dropout(0.5))\n",
    "model.add(layers.Dense(64, activation='relu'))\n",
    "model.add(layers.Dropout(0.5))\n",
    "model.add(layers.Dense(46, activation='softmax'))\n",
    "\n",
    "model.compile(optimizer='rmsprop',loss='categorical_crossentropy',metrics=['accuracy'])\n",
    "model.fit(partial_x_train,partial_y_train,epochs= 20, batch_size=512,\n",
    "validation_data=(x_val, y_val))\n",
    "\n",
    "results = model.evaluate(x_test, one_hot_test_labels)\n",
    "\n",
    "print(\"_\"*100)\n",
    "print(results)"
   ]
  },
  {
   "cell_type": "code",
   "execution_count": 48,
   "metadata": {},
   "outputs": [
    {
     "name": "stdout",
     "output_type": "stream",
     "text": [
      "- shr profit three cts vs profit one ct net profit 129 082 vs profit 36 099 revs 3 864 187 vs 1 875 919 nine mths shr loss six cts vs profit two cts net loss 303 581 vs profit 110 311 revs 9 517 242 vs 5 248 105 note prior qtr and nine mth figures include - of 15 000 dlrs and 48 000 dlrs respectively reuter 3\n",
      "3\n"
     ]
    }
   ],
   "source": [
    "# DATA decoding\n",
    "\n",
    "decoded_test_data_row = ' '.join([reverse_word_index.get(i - 3, '-') for i in\n",
    "test_data[500]])\n",
    "\n",
    "print(decoded_test_data_row)\n",
    "\n",
    "print(test_labels[500])\n"
   ]
  },
  {
   "cell_type": "code",
   "execution_count": 49,
   "metadata": {},
   "outputs": [
    {
     "name": "stdout",
     "output_type": "stream",
     "text": [
      "(46,)\n",
      "0.9999997\n",
      "3\n"
     ]
    }
   ],
   "source": [
    "# Predict\n",
    "\n",
    "predictions = model.predict(x_test)\n",
    "\n",
    "# The coefficients in this vector sum to 1:\n",
    "print(np.sum(predictions[500]))\n",
    "\n",
    "# The largest entry is the predicted class — the class with the highest probability:\n",
    "print(np.argmax(predictions[500]))"
   ]
  },
  {
   "cell_type": "code",
   "execution_count": null,
   "metadata": {},
   "outputs": [],
   "source": []
  }
 ],
 "metadata": {
  "kernelspec": {
   "display_name": "Python 3",
   "language": "python",
   "name": "python3"
  },
  "language_info": {
   "codemirror_mode": {
    "name": "ipython",
    "version": 3
   },
   "file_extension": ".py",
   "mimetype": "text/x-python",
   "name": "python",
   "nbconvert_exporter": "python",
   "pygments_lexer": "ipython3",
   "version": "3.6.5"
  }
 },
 "nbformat": 4,
 "nbformat_minor": 2
}
