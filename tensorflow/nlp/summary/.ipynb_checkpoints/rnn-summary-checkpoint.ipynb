{
 "cells": [
  {
   "cell_type": "code",
   "execution_count": 1,
   "metadata": {},
   "outputs": [
    {
     "name": "stderr",
     "output_type": "stream",
     "text": [
      "/usr/local/anaconda3/lib/python3.6/site-packages/h5py/__init__.py:36: FutureWarning: Conversion of the second argument of issubdtype from `float` to `np.floating` is deprecated. In future, it will be treated as `np.float64 == np.dtype(float).type`.\n",
      "  from ._conv import register_converters as _register_converters\n",
      "Using TensorFlow backend.\n"
     ]
    },
    {
     "name": "stdout",
     "output_type": "stream",
     "text": [
      "Epoch 1/20\n",
      "768/768 [==============================] - 0s 359us/step - loss: 3.6814 - acc: 0.5951\n",
      "Epoch 2/20\n",
      "768/768 [==============================] - 0s 90us/step - loss: 0.9302 - acc: 0.6003\n",
      "Epoch 3/20\n",
      "768/768 [==============================] - 0s 90us/step - loss: 0.7462 - acc: 0.6380\n",
      "Epoch 4/20\n",
      "768/768 [==============================] - 0s 89us/step - loss: 0.7104 - acc: 0.6549\n",
      "Epoch 5/20\n",
      "768/768 [==============================] - 0s 91us/step - loss: 0.6811 - acc: 0.6784\n",
      "Epoch 6/20\n",
      "768/768 [==============================] - 0s 89us/step - loss: 0.6505 - acc: 0.6810\n",
      "Epoch 7/20\n",
      "768/768 [==============================] - 0s 89us/step - loss: 0.6498 - acc: 0.6706\n",
      "Epoch 8/20\n",
      "768/768 [==============================] - 0s 89us/step - loss: 0.6360 - acc: 0.6875\n",
      "Epoch 9/20\n",
      "768/768 [==============================] - 0s 90us/step - loss: 0.6240 - acc: 0.6914\n",
      "Epoch 10/20\n",
      "768/768 [==============================] - 0s 90us/step - loss: 0.6288 - acc: 0.6784\n",
      "Epoch 11/20\n",
      "768/768 [==============================] - 0s 89us/step - loss: 0.6471 - acc: 0.6732\n",
      "Epoch 12/20\n",
      "768/768 [==============================] - 0s 89us/step - loss: 0.6385 - acc: 0.6745\n",
      "Epoch 13/20\n",
      "768/768 [==============================] - 0s 89us/step - loss: 0.6249 - acc: 0.6771\n",
      "Epoch 14/20\n",
      "768/768 [==============================] - 0s 90us/step - loss: 0.6177 - acc: 0.7005\n",
      "Epoch 15/20\n",
      "768/768 [==============================] - 0s 91us/step - loss: 0.6014 - acc: 0.7018\n",
      "Epoch 16/20\n",
      "768/768 [==============================] - 0s 91us/step - loss: 0.5874 - acc: 0.7005\n",
      "Epoch 17/20\n",
      "768/768 [==============================] - 0s 89us/step - loss: 0.5851 - acc: 0.7018\n",
      "Epoch 18/20\n",
      "768/768 [==============================] - 0s 91us/step - loss: 0.6008 - acc: 0.6875\n",
      "Epoch 19/20\n",
      "768/768 [==============================] - 0s 91us/step - loss: 0.5796 - acc: 0.7109\n",
      "Epoch 20/20\n",
      "768/768 [==============================] - 0s 92us/step - loss: 0.5796 - acc: 0.7201\n",
      "768/768 [==============================] - 0s 39us/step\n",
      "\n",
      "acc: 72.92%\n"
     ]
    }
   ],
   "source": [
    "# Create your first MLP in Keras\n",
    "from keras.models import Sequential\n",
    "from keras.layers import Dense\n",
    "import numpy\n",
    "# fix random seed for reproducibility\n",
    "numpy.random.seed(7)\n",
    "# load pima indians dataset\n",
    "dataset = numpy.loadtxt(\"pima-indians-diabetes.csv\", delimiter=\",\")\n",
    "# split into input (X) and output (Y) variables\n",
    "X = dataset[:,0:8]\n",
    "Y = dataset[:,8]\n",
    "# create model\n",
    "model = Sequential()\n",
    "model.add(Dense(12, input_dim=8, activation='relu'))\n",
    "model.add(Dense(8, activation='relu'))\n",
    "model.add(Dense(1, activation='sigmoid'))\n",
    "# Compile model\n",
    "model.compile(loss='binary_crossentropy', optimizer='adam', metrics=['accuracy'])\n",
    "# Fit the model\n",
    "model.fit(X, Y, epochs=20, batch_size=10)\n",
    "# evaluate the model\n",
    "scores = model.evaluate(X, Y)\n",
    "print(\"\\n%s: %.2f%%\" % (model.metrics_names[1], scores[1]*100))"
   ]
  },
  {
   "cell_type": "code",
   "execution_count": null,
   "metadata": {},
   "outputs": [],
   "source": []
  }
 ],
 "metadata": {
  "kernelspec": {
   "display_name": "Python 3",
   "language": "python",
   "name": "python3"
  },
  "language_info": {
   "codemirror_mode": {
    "name": "ipython",
    "version": 3
   },
   "file_extension": ".py",
   "mimetype": "text/x-python",
   "name": "python",
   "nbconvert_exporter": "python",
   "pygments_lexer": "ipython3",
   "version": "3.6.8"
  }
 },
 "nbformat": 4,
 "nbformat_minor": 2
}
