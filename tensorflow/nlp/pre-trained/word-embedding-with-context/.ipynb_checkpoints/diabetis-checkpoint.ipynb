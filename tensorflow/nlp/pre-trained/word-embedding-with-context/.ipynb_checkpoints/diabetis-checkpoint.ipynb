{
 "cells": [
  {
   "cell_type": "code",
   "execution_count": 1,
   "metadata": {},
   "outputs": [
    {
     "name": "stderr",
     "output_type": "stream",
     "text": [
      "/usr/local/anaconda3/lib/python3.6/site-packages/h5py/__init__.py:36: FutureWarning: Conversion of the second argument of issubdtype from `float` to `np.floating` is deprecated. In future, it will be treated as `np.float64 == np.dtype(float).type`.\n",
      "  from ._conv import register_converters as _register_converters\n",
      "Using TensorFlow backend.\n",
      "/usr/local/anaconda3/lib/python3.6/site-packages/tensorflow/python/framework/dtypes.py:493: FutureWarning: Passing (type, 1) or '1type' as a synonym of type is deprecated; in a future version of numpy, it will be understood as (type, (1,)) / '(1,)type'.\n",
      "  _np_qint8 = np.dtype([(\"qint8\", np.int8, 1)])\n",
      "/usr/local/anaconda3/lib/python3.6/site-packages/tensorflow/python/framework/dtypes.py:494: FutureWarning: Passing (type, 1) or '1type' as a synonym of type is deprecated; in a future version of numpy, it will be understood as (type, (1,)) / '(1,)type'.\n",
      "  _np_quint8 = np.dtype([(\"quint8\", np.uint8, 1)])\n",
      "/usr/local/anaconda3/lib/python3.6/site-packages/tensorflow/python/framework/dtypes.py:495: FutureWarning: Passing (type, 1) or '1type' as a synonym of type is deprecated; in a future version of numpy, it will be understood as (type, (1,)) / '(1,)type'.\n",
      "  _np_qint16 = np.dtype([(\"qint16\", np.int16, 1)])\n",
      "/usr/local/anaconda3/lib/python3.6/site-packages/tensorflow/python/framework/dtypes.py:496: FutureWarning: Passing (type, 1) or '1type' as a synonym of type is deprecated; in a future version of numpy, it will be understood as (type, (1,)) / '(1,)type'.\n",
      "  _np_quint16 = np.dtype([(\"quint16\", np.uint16, 1)])\n",
      "/usr/local/anaconda3/lib/python3.6/site-packages/tensorflow/python/framework/dtypes.py:497: FutureWarning: Passing (type, 1) or '1type' as a synonym of type is deprecated; in a future version of numpy, it will be understood as (type, (1,)) / '(1,)type'.\n",
      "  _np_qint32 = np.dtype([(\"qint32\", np.int32, 1)])\n",
      "/usr/local/anaconda3/lib/python3.6/site-packages/tensorflow/python/framework/dtypes.py:502: FutureWarning: Passing (type, 1) or '1type' as a synonym of type is deprecated; in a future version of numpy, it will be understood as (type, (1,)) / '(1,)type'.\n",
      "  np_resource = np.dtype([(\"resource\", np.ubyte, 1)])\n"
     ]
    },
    {
     "name": "stdout",
     "output_type": "stream",
     "text": [
      "Epoch 1/20\n",
      "768/768 [==============================] - 0s 266us/step - loss: 3.7101 - acc: 0.5990\n",
      "Epoch 2/20\n",
      "768/768 [==============================] - 0s 97us/step - loss: 0.9367 - acc: 0.5938\n",
      "Epoch 3/20\n",
      "768/768 [==============================] - 0s 94us/step - loss: 0.7473 - acc: 0.6406\n",
      "Epoch 4/20\n",
      "768/768 [==============================] - 0s 90us/step - loss: 0.7116 - acc: 0.6576\n",
      "Epoch 5/20\n",
      "768/768 [==============================] - 0s 91us/step - loss: 0.6823 - acc: 0.6745\n",
      "Epoch 6/20\n",
      "768/768 [==============================] - 0s 90us/step - loss: 0.6511 - acc: 0.6849\n",
      "Epoch 7/20\n",
      "768/768 [==============================] - 0s 90us/step - loss: 0.6495 - acc: 0.6758\n",
      "Epoch 8/20\n",
      "768/768 [==============================] - 0s 91us/step - loss: 0.6369 - acc: 0.6836\n",
      "Epoch 9/20\n",
      "768/768 [==============================] - 0s 96us/step - loss: 0.6246 - acc: 0.6979\n",
      "Epoch 10/20\n",
      "768/768 [==============================] - 0s 98us/step - loss: 0.6293 - acc: 0.6771\n",
      "Epoch 11/20\n",
      "768/768 [==============================] - 0s 96us/step - loss: 0.6470 - acc: 0.6758\n",
      "Epoch 12/20\n",
      "768/768 [==============================] - 0s 94us/step - loss: 0.6386 - acc: 0.6758\n",
      "Epoch 13/20\n",
      "768/768 [==============================] - 0s 94us/step - loss: 0.6251 - acc: 0.6771\n",
      "Epoch 14/20\n",
      "768/768 [==============================] - 0s 97us/step - loss: 0.6173 - acc: 0.7031\n",
      "Epoch 15/20\n",
      "768/768 [==============================] - 0s 103us/step - loss: 0.6016 - acc: 0.6940\n",
      "Epoch 16/20\n",
      "768/768 [==============================] - 0s 90us/step - loss: 0.5881 - acc: 0.7005\n",
      "Epoch 17/20\n",
      "768/768 [==============================] - 0s 95us/step - loss: 0.5846 - acc: 0.6979\n",
      "Epoch 18/20\n",
      "768/768 [==============================] - 0s 91us/step - loss: 0.5998 - acc: 0.6836\n",
      "Epoch 19/20\n",
      "768/768 [==============================] - 0s 92us/step - loss: 0.5805 - acc: 0.7096\n",
      "Epoch 20/20\n",
      "768/768 [==============================] - 0s 89us/step - loss: 0.5799 - acc: 0.7188\n",
      "768/768 [==============================] - 0s 39us/step\n",
      "\n",
      "acc: 72.92%\n"
     ]
    }
   ],
   "source": [
    "# Create your first MLP in Keras\n",
    "from keras.models import Sequential\n",
    "from keras.layers import Dense\n",
    "import numpy\n",
    "# fix random seed for reproducibility\n",
    "numpy.random.seed(7)\n",
    "# load pima indians dataset\n",
    "dataset = numpy.loadtxt(\"pima-indians-diabetes.csv\", delimiter=\",\")\n",
    "# split into input (X) and output (Y) variables\n",
    "X = dataset[:,0:8]\n",
    "Y = dataset[:,8]\n",
    "# create model\n",
    "model = Sequential()\n",
    "model.add(Dense(12, input_dim=8, activation='relu'))\n",
    "model.add(Dense(8, activation='relu'))\n",
    "model.add(Dense(1, activation='sigmoid'))\n",
    "# Compile model\n",
    "model.compile(loss='binary_crossentropy', optimizer='adam', metrics=['accuracy'])\n",
    "# Fit the model\n",
    "model.fit(X, Y, epochs=20, batch_size=10)\n",
    "# evaluate the model\n",
    "scores = model.evaluate(X, Y)\n",
    "print(\"\\n%s: %.2f%%\" % (model.metrics_names[1], scores[1]*100))"
   ]
  },
  {
   "cell_type": "code",
   "execution_count": null,
   "metadata": {},
   "outputs": [],
   "source": []
  }
 ],
 "metadata": {
  "kernelspec": {
   "display_name": "Python 3",
   "language": "python",
   "name": "python3"
  },
  "language_info": {
   "codemirror_mode": {
    "name": "ipython",
    "version": 3
   },
   "file_extension": ".py",
   "mimetype": "text/x-python",
   "name": "python",
   "nbconvert_exporter": "python",
   "pygments_lexer": "ipython3",
   "version": "3.6.8"
  }
 },
 "nbformat": 4,
 "nbformat_minor": 2
}
