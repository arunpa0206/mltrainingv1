{
 "cells": [
  {
   "cell_type": "code",
   "execution_count": 1,
   "metadata": {},
   "outputs": [],
   "source": [
    "import pandas as pd\n",
    "import numpy as np\n",
    "import re\n",
    "import sklearn.metrics.pairwise as pw\n",
    "from scipy import sparse\n",
    "from sklearn.metrics.pairwise import pairwise_distances"
   ]
  },
  {
   "cell_type": "markdown",
   "metadata": {},
   "source": [
    "### Loading data"
   ]
  },
  {
   "cell_type": "code",
   "execution_count": 3,
   "metadata": {},
   "outputs": [],
   "source": [
    "movies = pd.read_csv('movies.csv')\n",
    "ratings = pd.read_csv('ratings.csv')\n",
    "\n",
    "#Importing movies rated by my friends\n",
    "movies_rated = pd.read_excel(\"bbianchi.xlsx\",index_col='Movies')\n"
   ]
  },
  {
   "cell_type": "markdown",
   "metadata": {},
   "source": [
    "## Checking for duplicates"
   ]
  },
  {
   "cell_type": "code",
   "execution_count": 4,
   "metadata": {},
   "outputs": [
    {
     "data": {
      "text/plain": [
       "83969     1\n",
       "101577    1\n",
       "26629     1\n",
       "45062     1\n",
       "79879     1\n",
       "Name: movieId, dtype: int64"
      ]
     },
     "metadata": {},
     "output_type": "display_data"
    },
    {
     "data": {
      "text/plain": [
       "Emma (1996)                                 True\n",
       "War of the Worlds (2005)                    True\n",
       "Eros (2004)                                 True\n",
       "Saturn 3 (1980)                             True\n",
       "Confessions of a Dangerous Mind (2002)      True\n",
       "The Girls (1961)                           False\n",
       "Last Shift (2014)                          False\n",
       "Robin Williams: Live on Broadway (2002)    False\n",
       "Innocent Man, An (1989)                    False\n",
       "Honey, We Shrunk Ourselves (1997)          False\n",
       "Name: title, dtype: bool"
      ]
     },
     "metadata": {},
     "output_type": "display_data"
    }
   ],
   "source": [
    "# Checking for duplicated movieIDs\n",
    "display(movies['movieId'].value_counts().sort_values(ascending=False).head()) \n",
    "# Checking for duplicated titles\n",
    "display(movies['title'].value_counts().sort_values(ascending=False).head(10) > 1) "
   ]
  },
  {
   "cell_type": "markdown",
   "metadata": {},
   "source": [
    "## Investigating duplicated movieId"
   ]
  },
  {
   "cell_type": "code",
   "execution_count": 5,
   "metadata": {
    "scrolled": true
   },
   "outputs": [
    {
     "data": {
      "text/html": [
       "<div>\n",
       "<style scoped>\n",
       "    .dataframe tbody tr th:only-of-type {\n",
       "        vertical-align: middle;\n",
       "    }\n",
       "\n",
       "    .dataframe tbody tr th {\n",
       "        vertical-align: top;\n",
       "    }\n",
       "\n",
       "    .dataframe thead th {\n",
       "        text-align: right;\n",
       "    }\n",
       "</style>\n",
       "<table border=\"1\" class=\"dataframe\">\n",
       "  <thead>\n",
       "    <tr style=\"text-align: right;\">\n",
       "      <th></th>\n",
       "      <th>movieId</th>\n",
       "      <th>title</th>\n",
       "      <th>count</th>\n",
       "    </tr>\n",
       "  </thead>\n",
       "  <tbody>\n",
       "    <tr>\n",
       "      <th>0</th>\n",
       "      <td>838</td>\n",
       "      <td>Emma (1996)</td>\n",
       "      <td>30</td>\n",
       "    </tr>\n",
       "    <tr>\n",
       "      <th>1</th>\n",
       "      <td>2851</td>\n",
       "      <td>Saturn 3 (1980)</td>\n",
       "      <td>4</td>\n",
       "    </tr>\n",
       "    <tr>\n",
       "      <th>2</th>\n",
       "      <td>6003</td>\n",
       "      <td>Confessions of a Dangerous Mind (2002)</td>\n",
       "      <td>15</td>\n",
       "    </tr>\n",
       "    <tr>\n",
       "      <th>3</th>\n",
       "      <td>26958</td>\n",
       "      <td>Emma (1996)</td>\n",
       "      <td>1</td>\n",
       "    </tr>\n",
       "    <tr>\n",
       "      <th>4</th>\n",
       "      <td>32600</td>\n",
       "      <td>Eros (2004)</td>\n",
       "      <td>1</td>\n",
       "    </tr>\n",
       "    <tr>\n",
       "      <th>5</th>\n",
       "      <td>34048</td>\n",
       "      <td>War of the Worlds (2005)</td>\n",
       "      <td>50</td>\n",
       "    </tr>\n",
       "    <tr>\n",
       "      <th>6</th>\n",
       "      <td>64997</td>\n",
       "      <td>War of the Worlds (2005)</td>\n",
       "      <td>2</td>\n",
       "    </tr>\n",
       "    <tr>\n",
       "      <th>7</th>\n",
       "      <td>144606</td>\n",
       "      <td>Confessions of a Dangerous Mind (2002)</td>\n",
       "      <td>1</td>\n",
       "    </tr>\n",
       "    <tr>\n",
       "      <th>8</th>\n",
       "      <td>147002</td>\n",
       "      <td>Eros (2004)</td>\n",
       "      <td>1</td>\n",
       "    </tr>\n",
       "    <tr>\n",
       "      <th>9</th>\n",
       "      <td>168358</td>\n",
       "      <td>Saturn 3 (1980)</td>\n",
       "      <td>1</td>\n",
       "    </tr>\n",
       "  </tbody>\n",
       "</table>\n",
       "</div>"
      ],
      "text/plain": [
       "   movieId                                   title  count\n",
       "0      838                             Emma (1996)     30\n",
       "1     2851                         Saturn 3 (1980)      4\n",
       "2     6003  Confessions of a Dangerous Mind (2002)     15\n",
       "3    26958                             Emma (1996)      1\n",
       "4    32600                             Eros (2004)      1\n",
       "5    34048                War of the Worlds (2005)     50\n",
       "6    64997                War of the Worlds (2005)      2\n",
       "7   144606  Confessions of a Dangerous Mind (2002)      1\n",
       "8   147002                             Eros (2004)      1\n",
       "9   168358                         Saturn 3 (1980)      1"
      ]
     },
     "metadata": {},
     "output_type": "display_data"
    }
   ],
   "source": [
    "# Extracting duplicated movie ids\n",
    "duplicate_movies = movies.groupby('title').filter(lambda x: len(x) == 2)\n",
    "duplic_ids = duplicate_movies['movieId'].values\n",
    "#Duplicated titles\n",
    "duplicate_movies = duplicate_movies[['movieId','title']]\n",
    "# Checking the id with most reviews\n",
    "review_count = pd.DataFrame(ratings[ratings['movieId'].isin(duplic_ids)]['movieId'].value_counts())\n",
    "review_count.reset_index(inplace=True)\n",
    "review_count.columns = ['movieId','count']\n",
    "duplicated_df = pd.merge(duplicate_movies, review_count, on='movieId')\n",
    "display(duplicated_df)\n",
    "## Getting duplicates with low review count\n",
    "duplicated_df.sort_values(by=['title','count'],ascending=[True,False])\n",
    "duplicated_ids = duplicated_df.drop_duplicates(subset =\"title\", \n",
    "                     keep = 'last', inplace = False)['movieId']"
   ]
  },
  {
   "cell_type": "code",
   "execution_count": 6,
   "metadata": {
    "scrolled": true
   },
   "outputs": [],
   "source": [
    "# Removing duplicated ids with low review count from movie database\n",
    "movies = movies.loc[~movies['movieId'].isin(duplicated_ids)]\n",
    "# Removing duplicated ids with low review count from rating database\n",
    "ratings = ratings.loc[~ratings['movieId'].isin(duplicated_ids)]"
   ]
  },
  {
   "cell_type": "markdown",
   "metadata": {},
   "source": [
    "## Creating new columns"
   ]
  },
  {
   "cell_type": "code",
   "execution_count": 7,
   "metadata": {},
   "outputs": [],
   "source": [
    "#creating list with unique genres\n",
    "genres = list(set('|'.join(list(movies[\"genres\"].unique())).split('|')))\n",
    "genres.remove('(no genres listed)')\n",
    "\n",
    "#Creating dummy columns for each genre\n",
    "for genre in genres:\n",
    "    movies[genre] = movies['genres'].map(lambda val: 1 if genre in val else 0)"
   ]
  },
  {
   "cell_type": "code",
   "execution_count": 8,
   "metadata": {
    "scrolled": true
   },
   "outputs": [],
   "source": [
    "#Creating colum with film year\n",
    "movies['year'] = movies['title'].map(lambda val: int(re.search('\\(([0-9]{4})\\)',val).group(1)) \n",
    "                                     if re.search('\\(([0-9]{4})\\)',val)!= None \n",
    "                                     else 0)   \n",
    "# Film Decade\n",
    "for decade in range(1930,2020,10):\n",
    "    movies['decade_'+str(decade)] = np.where((movies['year'] < decade+10) & (movies['year'] >= decade) ,1,0)\n",
    "#     print('column created','decade_' + str(decade))\n",
    "    \n",
    "movies['decade_none'] = np.where(movies['year'] == 0 ,1,0)\n",
    "movies['decade_other'] = np.where((movies['year'] != 0) & (movies['year'] <1930) ,1,0)"
   ]
  },
  {
   "cell_type": "markdown",
   "metadata": {},
   "source": [
    "# Dropping columns\\rows"
   ]
  },
  {
   "cell_type": "code",
   "execution_count": 9,
   "metadata": {},
   "outputs": [],
   "source": [
    "#Droping genres\n",
    "movies.drop('genres', axis=1,inplace= True)  \n",
    "ratings.drop('timestamp', axis=1,inplace= True) \n",
    "movies_rated.dropna(axis=0, inplace=True)"
   ]
  },
  {
   "cell_type": "markdown",
   "metadata": {},
   "source": [
    "## Joining Data Frames"
   ]
  },
  {
   "cell_type": "code",
   "execution_count": 10,
   "metadata": {},
   "outputs": [
    {
     "name": "stdout",
     "output_type": "stream",
     "text": [
      "(100830, 35)\n"
     ]
    }
   ],
   "source": [
    "df = pd.merge(ratings, movies, on='movieId')\n",
    "print(df.shape)\n",
    "# df.head(2)"
   ]
  },
  {
   "cell_type": "code",
   "execution_count": 11,
   "metadata": {},
   "outputs": [],
   "source": [
    "## Checking a sample of how people rate movies\n",
    "# print(\"Number of users who provided ratings:\", len(df['userId'].unique()))\n",
    "# print(df.groupby([\"userId\"])[\"rating\"].agg([max,min,np.mean,np.median,len])[0:20])"
   ]
  },
  {
   "cell_type": "markdown",
   "metadata": {},
   "source": [
    "## Item-based collaborative recommender"
   ]
  },
  {
   "cell_type": "code",
   "execution_count": 12,
   "metadata": {},
   "outputs": [],
   "source": [
    "def item_based_recom(input_dataframe,input_film_name):    \n",
    "    pivot_item_based = pd.pivot_table(input_dataframe,\n",
    "                                      index='title',\n",
    "                                      columns=['userId'], values='rating')  \n",
    "    sparse_pivot = sparse.csr_matrix(pivot_item_based.fillna(0))\n",
    "    recommender = pw.cosine_similarity(sparse_pivot)\n",
    "    recommender_df = pd.DataFrame(recommender, \n",
    "                                  columns=pivot_item_based.index,\n",
    "                                  index=pivot_item_based.index)\n",
    "    ## Item Rating Based Cosine Similarity\n",
    "    cosine_df = pd.DataFrame(recommender_df[film_name].sort_values(ascending=False))\n",
    "    cosine_df.reset_index(level=0, inplace=True)\n",
    "    cosine_df.columns = ['title','cosine_sim']\n",
    "    return cosine_df"
   ]
  },
  {
   "cell_type": "markdown",
   "metadata": {},
   "source": [
    "## Item and Genre-based recommender "
   ]
  },
  {
   "cell_type": "code",
   "execution_count": 13,
   "metadata": {},
   "outputs": [],
   "source": [
    "def item_and_genre_based_recom(cosine_df,movies_df,categories):    \n",
    "## Item Rating and Gender Based Cosine Similarity\n",
    "    top_cos_genre = pd.merge(cosine_df, movies, on='title')\n",
    "    # Creating column with genre cosine similarity\n",
    "    top_cos_genre['genre_similarity'] = [pairwise_row_diff(top_cos_genre,0,row,categories) \n",
    "                                          for row in top_cos_genre.index.values]\n",
    "    return top_cos_genre[['title','cosine_sim','genre_similarity']]\n",
    "\n",
    "def pairwise_row_diff(dataframe,row1, row2,column_names):\n",
    "#     display(dataframe)\n",
    "     # Creates 2 Matrix to compare cosine similarity\n",
    "    matrix_row1 = [[dataframe.loc[row1,cat] for cat in column_names]] \n",
    "    matrix_row2 = [[dataframe.loc[row2,cat] for cat in column_names]] \n",
    "    return round(pw.cosine_similarity(matrix_row1,matrix_row2)[0][0],5)"
   ]
  },
  {
   "cell_type": "markdown",
   "metadata": {},
   "source": [
    "## User based Recommender\n"
   ]
  },
  {
   "cell_type": "code",
   "execution_count": 14,
   "metadata": {},
   "outputs": [],
   "source": [
    "def user_based_recom(input_dataframe,input_user_id):    \n",
    "    pivot_user_based = pd.pivot_table(input_dataframe, index='title', columns=['userId'], values='rating').T\n",
    "    sparse_pivot_ub = sparse.csr_matrix(pivot_user_based.fillna(0))\n",
    "    user_recomm = pw.cosine_similarity(sparse_pivot_ub)\n",
    "    user_recomm_df = pd.DataFrame(user_recomm,columns=pivot_user_based.index.values,\n",
    "                 index=pivot_user_based.index.values)\n",
    "    ## Item Rating Based Cosine Similarity\n",
    "    usr_cosine_df = pd.DataFrame(user_recomm_df[input_user_id].sort_values(ascending=False))\n",
    "    usr_cosine_df.reset_index(level=0, inplace=True)\n",
    "    usr_cosine_df.columns = ['userId','cosine_sim']\n",
    "    return usr_cosine_df"
   ]
  },
  {
   "cell_type": "code",
   "execution_count": 15,
   "metadata": {},
   "outputs": [],
   "source": [
    "def insert_ratings(usr_rtg_dict,pivot_user_based):\n",
    "    \"\"\"\n",
    "    Function to insert new row in pivot_user_based with film ratings created by a new user \n",
    "    \"\"\"\n",
    "    #loop throgh dictionary with ids of people who rated\n",
    "    for person_id in usr_rtg_dict:\n",
    "    #Loop through movies that where rated\n",
    "        for movie in films_rated.get(person_id):\n",
    "    #Inset ratings in main DF\n",
    "              pivot_user_based.loc[person_id,movie] = usr_rtg_dict.get(person_id).get(movie)\n",
    "#               print(\"Inserted score for id: \", person_id,movie,usr_rtg_dict.get(person_id).get(movie))\n",
    "    return pivot_user_based\n",
    "\n",
    "def user_based_recom(input_dataframe,input_films_rated,user_id):    \n",
    "    \"\"\"\n",
    "    Function to create user based recoomendations.\n",
    "    \"\"\"\n",
    "    pivot_user_based = pd.pivot_table(df, index='userId', columns=['title'], values='rating')\n",
    "    pivot_user_based = insert_ratings(films_rated,pivot_user_based)\n",
    "    user_sparse_pivot = sparse.csr_matrix(pivot_user_based.fillna(0))\n",
    "    user_recommender = pw.cosine_similarity(user_sparse_pivot)\n",
    "    user_recommender_df = pd.DataFrame(user_recommender, columns=pivot_user_based.index.values,index = pivot_user_based.index.values)\n",
    "    ## Movie User based Cosine Similarity data frame \n",
    "    usr_cosine_df = pd.DataFrame(user_recommender_df[user_id].sort_values(ascending=False))\n",
    "    usr_cosine_df.reset_index(level=0, inplace=True)\n",
    "    usr_cosine_df.columns = ['title','cosine_sim']\n",
    "    ## 4 most similar users\n",
    "    similar_usr = list(usr_cosine_df['title'][1:5].values)\n",
    "    ## Comparing reviews with similar users\n",
    "    similar_usr_df = pivot_user_based.T[[user_id] + similar_usr].fillna(0)\n",
    "    similar_usr_df['mean_rev'] = similar_usr_df[similar_usr].mean(numeric_only=True,axis=1)\n",
    "    similar_usr_df.sort_values('mean_rev', ascending=False,inplace = True)\n",
    "#   Check user rated movies vs similar users ratings\n",
    "#   display(similar_usr_df[similar_usr_df[user_id]!=0])\n",
    "    return similar_usr_df[similar_usr_df[user_id]==0].rename({611:'Bernardo Bianchi',\n",
    "                                                              'mean_rev':'Mean_score'},axis=1)"
   ]
  },
  {
   "cell_type": "markdown",
   "metadata": {},
   "source": [
    "# Final Recommender:"
   ]
  },
  {
   "cell_type": "markdown",
   "metadata": {},
   "source": [
    "### Setttings:"
   ]
  },
  {
   "cell_type": "code",
   "execution_count": 16,
   "metadata": {},
   "outputs": [],
   "source": [
    "categories = ['Film-Noir', 'Adventure', 'Children',\n",
    "           'IMAX', 'Crime', 'Documentary', 'Fantasy', 'Musical', 'Romance',\n",
    "           'Mystery', 'Thriller', 'Animation', 'Action', 'Comedy', 'War', 'Drama',\n",
    "           'Western', 'Sci-Fi', 'Horror']\n",
    "\n",
    "people_who_rated = {611: \"Bernardo Bianchi\"}\n",
    "films_rated = movies_rated.to_dict()\n",
    "\n",
    "# film_name = 'Inception (2010)' \n",
    "film_name ='Iron Man 2 (2010)' \n",
    "user_id = 611"
   ]
  },
  {
   "cell_type": "markdown",
   "metadata": {},
   "source": [
    "## Function:"
   ]
  },
  {
   "cell_type": "code",
   "execution_count": 17,
   "metadata": {},
   "outputs": [
    {
     "name": "stdout",
     "output_type": "stream",
     "text": [
      "Movie Recommender by B.Kurka:\n",
      "User name: Favorite Movie: Iron Man 2 (2010)\n",
      "\n",
      "\n",
      "Films you might enjooy based that you watched Iron Man 2 (2010)\n"
     ]
    },
    {
     "data": {
      "text/html": [
       "<div>\n",
       "<style scoped>\n",
       "    .dataframe tbody tr th:only-of-type {\n",
       "        vertical-align: middle;\n",
       "    }\n",
       "\n",
       "    .dataframe tbody tr th {\n",
       "        vertical-align: top;\n",
       "    }\n",
       "\n",
       "    .dataframe thead th {\n",
       "        text-align: right;\n",
       "    }\n",
       "</style>\n",
       "<table border=\"1\" class=\"dataframe\">\n",
       "  <thead>\n",
       "    <tr style=\"text-align: right;\">\n",
       "      <th></th>\n",
       "      <th>title</th>\n",
       "      <th>cosine_sim</th>\n",
       "    </tr>\n",
       "  </thead>\n",
       "  <tbody>\n",
       "    <tr>\n",
       "      <th>1</th>\n",
       "      <td>X-Men: First Class (2011)</td>\n",
       "      <td>0.699524</td>\n",
       "    </tr>\n",
       "    <tr>\n",
       "      <th>2</th>\n",
       "      <td>Avengers, The (2012)</td>\n",
       "      <td>0.695324</td>\n",
       "    </tr>\n",
       "    <tr>\n",
       "      <th>3</th>\n",
       "      <td>Iron Man 3 (2013)</td>\n",
       "      <td>0.677566</td>\n",
       "    </tr>\n",
       "    <tr>\n",
       "      <th>4</th>\n",
       "      <td>Iron Man (2008)</td>\n",
       "      <td>0.641986</td>\n",
       "    </tr>\n",
       "    <tr>\n",
       "      <th>5</th>\n",
       "      <td>Guardians of the Galaxy (2014)</td>\n",
       "      <td>0.638427</td>\n",
       "    </tr>\n",
       "  </tbody>\n",
       "</table>\n",
       "</div>"
      ],
      "text/plain": [
       "                            title  cosine_sim\n",
       "1       X-Men: First Class (2011)    0.699524\n",
       "2            Avengers, The (2012)    0.695324\n",
       "3               Iron Man 3 (2013)    0.677566\n",
       "4                 Iron Man (2008)    0.641986\n",
       "5  Guardians of the Galaxy (2014)    0.638427"
      ]
     },
     "metadata": {},
     "output_type": "display_data"
    },
    {
     "name": "stdout",
     "output_type": "stream",
     "text": [
      "***********************************************************************************************\n",
      "\n",
      "Films you might enjooy with similar genre then Iron Man 2 (2010)\n"
     ]
    },
    {
     "data": {
      "text/html": [
       "<div>\n",
       "<style scoped>\n",
       "    .dataframe tbody tr th:only-of-type {\n",
       "        vertical-align: middle;\n",
       "    }\n",
       "\n",
       "    .dataframe tbody tr th {\n",
       "        vertical-align: top;\n",
       "    }\n",
       "\n",
       "    .dataframe thead th {\n",
       "        text-align: right;\n",
       "    }\n",
       "</style>\n",
       "<table border=\"1\" class=\"dataframe\">\n",
       "  <thead>\n",
       "    <tr style=\"text-align: right;\">\n",
       "      <th></th>\n",
       "      <th>title</th>\n",
       "      <th>cosine_sim</th>\n",
       "      <th>genre_similarity</th>\n",
       "    </tr>\n",
       "  </thead>\n",
       "  <tbody>\n",
       "    <tr>\n",
       "      <th>1763</th>\n",
       "      <td>G.I. Joe: Retaliation (2013)</td>\n",
       "      <td>0.175867</td>\n",
       "      <td>1.00000</td>\n",
       "    </tr>\n",
       "    <tr>\n",
       "      <th>86</th>\n",
       "      <td>Matrix Revolutions, The (2003)</td>\n",
       "      <td>0.434889</td>\n",
       "      <td>1.00000</td>\n",
       "    </tr>\n",
       "    <tr>\n",
       "      <th>74</th>\n",
       "      <td>Matrix Reloaded, The (2003)</td>\n",
       "      <td>0.446645</td>\n",
       "      <td>1.00000</td>\n",
       "    </tr>\n",
       "    <tr>\n",
       "      <th>67</th>\n",
       "      <td>Spider-Man 3 (2007)</td>\n",
       "      <td>0.453103</td>\n",
       "      <td>1.00000</td>\n",
       "    </tr>\n",
       "    <tr>\n",
       "      <th>667</th>\n",
       "      <td>G.I. Joe: The Rise of Cobra (2009)</td>\n",
       "      <td>0.256834</td>\n",
       "      <td>0.89443</td>\n",
       "    </tr>\n",
       "  </tbody>\n",
       "</table>\n",
       "</div>"
      ],
      "text/plain": [
       "                                   title  cosine_sim  genre_similarity\n",
       "1763        G.I. Joe: Retaliation (2013)    0.175867           1.00000\n",
       "86        Matrix Revolutions, The (2003)    0.434889           1.00000\n",
       "74           Matrix Reloaded, The (2003)    0.446645           1.00000\n",
       "67                   Spider-Man 3 (2007)    0.453103           1.00000\n",
       "667   G.I. Joe: The Rise of Cobra (2009)    0.256834           0.89443"
      ]
     },
     "metadata": {},
     "output_type": "display_data"
    },
    {
     "name": "stdout",
     "output_type": "stream",
     "text": [
      "***********************************************************************************************\n",
      "\n",
      "Flims reccomended for you:\n"
     ]
    },
    {
     "data": {
      "text/html": [
       "<div>\n",
       "<style scoped>\n",
       "    .dataframe tbody tr th:only-of-type {\n",
       "        vertical-align: middle;\n",
       "    }\n",
       "\n",
       "    .dataframe tbody tr th {\n",
       "        vertical-align: top;\n",
       "    }\n",
       "\n",
       "    .dataframe thead th {\n",
       "        text-align: right;\n",
       "    }\n",
       "</style>\n",
       "<table border=\"1\" class=\"dataframe\">\n",
       "  <thead>\n",
       "    <tr style=\"text-align: right;\">\n",
       "      <th>userId</th>\n",
       "      <th>Bernardo Bianchi</th>\n",
       "      <th>298</th>\n",
       "      <th>362</th>\n",
       "      <th>495</th>\n",
       "      <th>295</th>\n",
       "      <th>Mean_score</th>\n",
       "    </tr>\n",
       "    <tr>\n",
       "      <th>title</th>\n",
       "      <th></th>\n",
       "      <th></th>\n",
       "      <th></th>\n",
       "      <th></th>\n",
       "      <th></th>\n",
       "      <th></th>\n",
       "    </tr>\n",
       "  </thead>\n",
       "  <tbody>\n",
       "    <tr>\n",
       "      <th>Shawshank Redemption, The (1994)</th>\n",
       "      <td>0.0</td>\n",
       "      <td>3.5</td>\n",
       "      <td>4.5</td>\n",
       "      <td>5.0</td>\n",
       "      <td>5.0</td>\n",
       "      <td>4.500</td>\n",
       "    </tr>\n",
       "    <tr>\n",
       "      <th>Kill Bill: Vol. 1 (2003)</th>\n",
       "      <td>0.0</td>\n",
       "      <td>4.0</td>\n",
       "      <td>4.5</td>\n",
       "      <td>5.0</td>\n",
       "      <td>4.5</td>\n",
       "      <td>4.500</td>\n",
       "    </tr>\n",
       "    <tr>\n",
       "      <th>Kill Bill: Vol. 2 (2004)</th>\n",
       "      <td>0.0</td>\n",
       "      <td>4.0</td>\n",
       "      <td>4.5</td>\n",
       "      <td>5.0</td>\n",
       "      <td>4.5</td>\n",
       "      <td>4.500</td>\n",
       "    </tr>\n",
       "    <tr>\n",
       "      <th>Usual Suspects, The (1995)</th>\n",
       "      <td>0.0</td>\n",
       "      <td>3.5</td>\n",
       "      <td>3.5</td>\n",
       "      <td>4.0</td>\n",
       "      <td>5.0</td>\n",
       "      <td>4.000</td>\n",
       "    </tr>\n",
       "    <tr>\n",
       "      <th>Matrix, The (1999)</th>\n",
       "      <td>0.0</td>\n",
       "      <td>4.0</td>\n",
       "      <td>4.5</td>\n",
       "      <td>5.0</td>\n",
       "      <td>0.0</td>\n",
       "      <td>3.375</td>\n",
       "    </tr>\n",
       "  </tbody>\n",
       "</table>\n",
       "</div>"
      ],
      "text/plain": [
       "userId                            Bernardo Bianchi  298  362  495  295  \\\n",
       "title                                                                    \n",
       "Shawshank Redemption, The (1994)               0.0  3.5  4.5  5.0  5.0   \n",
       "Kill Bill: Vol. 1 (2003)                       0.0  4.0  4.5  5.0  4.5   \n",
       "Kill Bill: Vol. 2 (2004)                       0.0  4.0  4.5  5.0  4.5   \n",
       "Usual Suspects, The (1995)                     0.0  3.5  3.5  4.0  5.0   \n",
       "Matrix, The (1999)                             0.0  4.0  4.5  5.0  0.0   \n",
       "\n",
       "userId                            Mean_score  \n",
       "title                                         \n",
       "Shawshank Redemption, The (1994)       4.500  \n",
       "Kill Bill: Vol. 1 (2003)               4.500  \n",
       "Kill Bill: Vol. 2 (2004)               4.500  \n",
       "Usual Suspects, The (1995)             4.000  \n",
       "Matrix, The (1999)                     3.375  "
      ]
     },
     "metadata": {},
     "output_type": "display_data"
    }
   ],
   "source": [
    "def generate_recomendations(df,film_name,input_films_rated,top_results=5,cat=categories):\n",
    "    print(\"Movie Recommender by B.Kurka:\")\n",
    "    print(\"User name: \" + \"Favorite Movie:\", film_name+'\\n\\n')\n",
    "    print(\"Films you might enjooy based that you watched\", film_name)\n",
    "    ## Item Rating Based Cosine Similarity\n",
    "    cos_sim = item_based_recom(df,film_name)\n",
    "    display(cos_sim[1:top_results+1])\n",
    "    \n",
    "    print(\"***********************************************************************************************\\n\")\n",
    "    print(\"Films you might enjooy with similar genre then\", film_name) \n",
    "    display(item_and_genre_based_recom(item_based_recom(df,film_name),movies,categories)\\\n",
    "            .sort_values('cosine_sim',ascending=False)[top_results:]\\\n",
    "            .sort_values('genre_similarity',ascending=False)[:top_results])\n",
    "   \n",
    "    print(\"***********************************************************************************************\\n\")\n",
    "    print(\"Flims reccomended for you:\")\n",
    "    a = user_based_recom(df,input_films_rated,user_id)[0:25]\n",
    "    \n",
    "    display(user_based_recom(df,input_films_rated,user_id)[0:5])\n",
    "#     display()\n",
    "\n",
    "    return None\n",
    "    \n",
    "generate_recomendations(df,film_name,films_rated,5)"
   ]
  }
 ],
 "metadata": {
  "kernelspec": {
   "display_name": "Python 3",
   "language": "python",
   "name": "python3"
  },
  "language_info": {
   "codemirror_mode": {
    "name": "ipython",
    "version": 3
   },
   "file_extension": ".py",
   "mimetype": "text/x-python",
   "name": "python",
   "nbconvert_exporter": "python",
   "pygments_lexer": "ipython3",
   "version": "3.6.8"
  }
 },
 "nbformat": 4,
 "nbformat_minor": 2
}
